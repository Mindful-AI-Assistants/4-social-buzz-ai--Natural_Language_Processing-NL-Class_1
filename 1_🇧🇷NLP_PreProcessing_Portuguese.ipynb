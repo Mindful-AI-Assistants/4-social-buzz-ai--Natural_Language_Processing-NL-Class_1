{
  "nbformat": 4,
  "nbformat_minor": 0,
  "metadata": {
    "colab": {
      "provenance": []
    },
    "kernelspec": {
      "name": "python3",
      "display_name": "Python 3"
    },
    "language_info": {
      "name": "python"
    }
  },
  "cells": [
    {
      "cell_type": "markdown",
      "source": [
        "## 1 ) Tokenização"
      ],
      "metadata": {
        "id": "Dj5Khm1kH1fB"
      }
    },
    {
      "cell_type": "markdown",
      "metadata": {
        "id": "7c4b0932"
      },
      "source": [
        "Este código importa a biblioteca `re`, que fornece operações de correspondência de expressões regulares. É útil para encontrar padrões em strings."
      ]
    },
    {
      "cell_type": "code",
      "metadata": {
        "id": "1831dde7"
      },
      "source": [
        "import re"
      ],
      "execution_count": 14,
      "outputs": []
    },
    {
      "cell_type": "markdown",
      "metadata": {
        "id": "3e9ae0b0"
      },
      "source": [
        "Esta célula define uma string simples na variável `texto`."
      ]
    },
    {
      "cell_type": "code",
      "metadata": {
        "id": "b15da8d6"
      },
      "source": [
        "texto = \"No meio do caminho tinha uma pedra.\""
      ],
      "execution_count": 15,
      "outputs": []
    },
    {
      "cell_type": "markdown",
      "metadata": {
        "id": "de94890a"
      },
      "source": [
        "Este código usa o método `split()` para dividir a string `texto` em uma lista de palavras, usando espaços em branco como delimitadores."
      ]
    },
    {
      "cell_type": "code",
      "metadata": {
        "colab": {
          "base_uri": "https://localhost:8080/"
        },
        "id": "2dffe7d7",
        "outputId": "7028c47e-20b4-438e-8f32-09a1130f65c3"
      },
      "source": [
        "texto.split()"
      ],
      "execution_count": 16,
      "outputs": [
        {
          "output_type": "execute_result",
          "data": {
            "text/plain": [
              "['No', 'meio', 'do', 'caminho', 'tinha', 'uma', 'pedra.']"
            ]
          },
          "metadata": {},
          "execution_count": 16
        }
      ]
    },
    {
      "cell_type": "markdown",
      "metadata": {
        "id": "105c8be8"
      },
      "source": [
        "Esta célula redefine a variável `texto` com uma string diferente, contendo pontuação."
      ]
    },
    {
      "cell_type": "code",
      "metadata": {
        "id": "597347b2"
      },
      "source": [
        "texto = \"Olá, tudo bem? Em que posso ajudá-lo hoje?\""
      ],
      "execution_count": 17,
      "outputs": []
    },
    {
      "cell_type": "markdown",
      "metadata": {
        "id": "f62607b7"
      },
      "source": [
        "Este código novamente usa o método `split()` para dividir a nova string `texto` em uma lista de palavras. Observe que a pontuação ainda está anexada às palavras."
      ]
    },
    {
      "cell_type": "code",
      "metadata": {
        "colab": {
          "base_uri": "https://localhost:8080/"
        },
        "id": "b0ef6a10",
        "outputId": "3c34a180-0776-43d4-9427-5a4eabab80d0"
      },
      "source": [
        "texto.split()"
      ],
      "execution_count": 18,
      "outputs": [
        {
          "output_type": "execute_result",
          "data": {
            "text/plain": [
              "['Olá,', 'tudo', 'bem?', 'Em', 'que', 'posso', 'ajudá-lo', 'hoje?']"
            ]
          },
          "metadata": {},
          "execution_count": 18
        }
      ]
    },
    {
      "cell_type": "markdown",
      "metadata": {
        "id": "d5bf8fe9"
      },
      "source": [
        "Este código usa a biblioteca `re` para substituir a pontuação (vírgula, ponto, ponto de interrogação e ponto de exclamação) por espaços em branco. Em seguida, converte a string resultante para minúsculas e a divide em palavras usando `split()`. Isso remove a pontuação e padroniza a capitalização."
      ]
    },
    {
      "cell_type": "code",
      "metadata": {
        "colab": {
          "base_uri": "https://localhost:8080/"
        },
        "id": "efe03422",
        "outputId": "75bae5bd-415d-42fd-90e1-36b3f3f4c797"
      },
      "source": [
        "re.sub(r\"[,.!?]\", r\" \", texto).lower().split()"
      ],
      "execution_count": 19,
      "outputs": [
        {
          "output_type": "execute_result",
          "data": {
            "text/plain": [
              "['olá', 'tudo', 'bem', 'em', 'que', 'posso', 'ajudá-lo', 'hoje']"
            ]
          },
          "metadata": {},
          "execution_count": 19
        }
      ]
    },
    {
      "cell_type": "markdown",
      "metadata": {
        "id": "6d6b0de9"
      },
      "source": [
        "Esta célula redefine a variável `texto` com uma string contendo um valor monetário."
      ]
    },
    {
      "cell_type": "code",
      "metadata": {
        "id": "60c36c4c"
      },
      "source": [
        "texto = \"Eu paguei R$456,00 pelo setup. Ficou massa!\""
      ],
      "execution_count": 20,
      "outputs": []
    },
    {
      "cell_type": "markdown",
      "metadata": {
        "id": "977920aa"
      },
      "source": [
        "Esta célula define uma expressão regular na variável `regex` para encontrar palavras ou sequências que se parecem com valores monetários (começando com \"R$\", seguido por números, pontos ou vírgulas, e opcionalmente letras) ou qualquer sequência de caracteres não-espaço."
      ]
    },
    {
      "cell_type": "code",
      "metadata": {
        "id": "8dc86468"
      },
      "source": [
        "regex = r\"R\\$?![\\d\\.\\,]+\\w+|\\S+\""
      ],
      "execution_count": 21,
      "outputs": []
    },
    {
      "cell_type": "markdown",
      "metadata": {
        "id": "e5961a9d"
      },
      "source": [
        "Este código usa a função `re.findall()` com a expressão regular `regex` para encontrar todas as ocorrências que correspondem ao padrão na string `texto`. Isso extrai as palavras e o valor monetário como tokens separados."
      ]
    },
    {
      "cell_type": "code",
      "metadata": {
        "colab": {
          "base_uri": "https://localhost:8080/"
        },
        "id": "5d29d3d9",
        "outputId": "c814cb85-b572-421b-c7bc-8347a4132bc5"
      },
      "source": [
        "re.findall(regex, texto)"
      ],
      "execution_count": 22,
      "outputs": [
        {
          "output_type": "execute_result",
          "data": {
            "text/plain": [
              "['Eu', 'paguei', 'R$456,00', 'pelo', 'setup.', 'Ficou', 'massa!']"
            ]
          },
          "metadata": {},
          "execution_count": 22
        }
      ]
    },
    {
      "cell_type": "code",
      "source": [
        "import re"
      ],
      "metadata": {
        "id": "y_SpxiLkHyhK"
      },
      "execution_count": 23,
      "outputs": []
    },
    {
      "cell_type": "code",
      "execution_count": 24,
      "metadata": {
        "id": "Hg0WO2w_G6TL"
      },
      "outputs": [],
      "source": [
        "texto = \"No meio do caminho tinha uma pedra.\""
      ]
    },
    {
      "cell_type": "code",
      "source": [
        "texto.split()"
      ],
      "metadata": {
        "colab": {
          "base_uri": "https://localhost:8080/"
        },
        "id": "H-oPnTssHClr",
        "outputId": "6945fc94-a037-438a-8f10-59b24ffea31e"
      },
      "execution_count": 25,
      "outputs": [
        {
          "output_type": "execute_result",
          "data": {
            "text/plain": [
              "['No', 'meio', 'do', 'caminho', 'tinha', 'uma', 'pedra.']"
            ]
          },
          "metadata": {},
          "execution_count": 25
        }
      ]
    },
    {
      "cell_type": "code",
      "source": [
        "texto = \"Olá, tudo bem? Em que posso ajudá-lo hoje?\""
      ],
      "metadata": {
        "id": "0cM0VpWPHUQM"
      },
      "execution_count": 26,
      "outputs": []
    },
    {
      "cell_type": "code",
      "source": [
        "texto.split()"
      ],
      "metadata": {
        "colab": {
          "base_uri": "https://localhost:8080/"
        },
        "id": "vamUkNC4Ho5A",
        "outputId": "82834b2e-d29f-409b-d399-17d78316852e"
      },
      "execution_count": 27,
      "outputs": [
        {
          "output_type": "execute_result",
          "data": {
            "text/plain": [
              "['Olá,', 'tudo', 'bem?', 'Em', 'que', 'posso', 'ajudá-lo', 'hoje?']"
            ]
          },
          "metadata": {},
          "execution_count": 27
        }
      ]
    },
    {
      "cell_type": "code",
      "source": [
        "re.sub(r\"[,.!?]\", r\" \", texto).lower().split()"
      ],
      "metadata": {
        "colab": {
          "base_uri": "https://localhost:8080/"
        },
        "id": "p3g8Hn7yHxAv",
        "outputId": "98609d52-7575-4b87-efe7-f0c867e3671a"
      },
      "execution_count": 28,
      "outputs": [
        {
          "output_type": "execute_result",
          "data": {
            "text/plain": [
              "['olá', 'tudo', 'bem', 'em', 'que', 'posso', 'ajudá-lo', 'hoje']"
            ]
          },
          "metadata": {},
          "execution_count": 28
        }
      ]
    },
    {
      "cell_type": "code",
      "source": [
        "texto = \"Eu paguei R$456,00 pelo setup. Ficou massa!\""
      ],
      "metadata": {
        "id": "irTncXZKIhCk"
      },
      "execution_count": 29,
      "outputs": []
    },
    {
      "cell_type": "code",
      "source": [
        "regex = r\"R\\$?![\\d\\.\\,]+\\w+|\\S+\""
      ],
      "metadata": {
        "id": "jqDwoVmMIXCM"
      },
      "execution_count": 30,
      "outputs": []
    },
    {
      "cell_type": "code",
      "source": [
        "re.findall(regex, texto)"
      ],
      "metadata": {
        "colab": {
          "base_uri": "https://localhost:8080/"
        },
        "id": "UedX6lX2JKNG",
        "outputId": "f670800d-36f9-4afc-bbda-716fc10bb8b4"
      },
      "execution_count": 31,
      "outputs": [
        {
          "output_type": "execute_result",
          "data": {
            "text/plain": [
              "['Eu', 'paguei', 'R$456,00', 'pelo', 'setup.', 'Ficou', 'massa!']"
            ]
          },
          "metadata": {},
          "execution_count": 31
        }
      ]
    },
    {
      "cell_type": "markdown",
      "source": [
        "## Tokenizador usando as regras do NLTK"
      ],
      "metadata": {
        "id": "uaT9l8raRzTu"
      }
    },
    {
      "cell_type": "markdown",
      "metadata": {
        "id": "1716c793"
      },
      "source": [
        "Este código importa a biblioteca `nltk` e baixa o pacote `punkt_tab`, que é necessário para a tokenização."
      ]
    },
    {
      "cell_type": "code",
      "metadata": {
        "colab": {
          "base_uri": "https://localhost:8080/"
        },
        "id": "9961192e",
        "outputId": "f844b13f-0545-4803-fcbb-e57bda60b936"
      },
      "source": [
        "import nltk\n",
        "\n",
        "nltk.download('punkt_tab')"
      ],
      "execution_count": 32,
      "outputs": [
        {
          "output_type": "stream",
          "name": "stderr",
          "text": [
            "[nltk_data] Downloading package punkt_tab to /root/nltk_data...\n",
            "[nltk_data]   Package punkt_tab is already up-to-date!\n"
          ]
        },
        {
          "output_type": "execute_result",
          "data": {
            "text/plain": [
              "True"
            ]
          },
          "metadata": {},
          "execution_count": 32
        }
      ]
    },
    {
      "cell_type": "markdown",
      "metadata": {
        "id": "e7add7df"
      },
      "source": [
        "Este código usa a função `nltk.word_tokenize()` para dividir a string `text` em tokens (palavras e pontuação), usando as regras de tokenização do NLTK para o idioma inglês."
      ]
    },
    {
      "cell_type": "code",
      "metadata": {
        "colab": {
          "base_uri": "https://localhost:8080/"
        },
        "id": "cc759804",
        "outputId": "e6686cca-3a4c-4821-df97-7020e24a1dab"
      },
      "source": [
        "text = \"\"\"Hello everyone!!!\"\"\"\n",
        "\n",
        "nltk.word_tokenize(text, language='english')"
      ],
      "execution_count": 33,
      "outputs": [
        {
          "output_type": "execute_result",
          "data": {
            "text/plain": [
              "['Hello', 'everyone', '!', '!', '!']"
            ]
          },
          "metadata": {},
          "execution_count": 33
        }
      ]
    },
    {
      "cell_type": "markdown",
      "metadata": {
        "id": "8d346cc5"
      },
      "source": [
        "Este código usa a função `nltk.word_tokenize()` para dividir a string `texto` em tokens (palavras e pontuação), usando as regras de tokenização do NLTK para o idioma português. Observe como ele lida com o valor monetário."
      ]
    },
    {
      "cell_type": "code",
      "metadata": {
        "colab": {
          "base_uri": "https://localhost:8080/"
        },
        "id": "fbe20c88",
        "outputId": "b472d6f2-f118-4301-988e-0b000cfb2d50"
      },
      "source": [
        "texto = \"Eu paguei R$456,00 pelo setup. Ficou massa!\"\n",
        "nltk.word_tokenize(texto, language='portuguese')"
      ],
      "execution_count": 34,
      "outputs": [
        {
          "output_type": "execute_result",
          "data": {
            "text/plain": [
              "['Eu',\n",
              " 'paguei',\n",
              " 'R',\n",
              " '$',\n",
              " '456,00',\n",
              " 'pelo',\n",
              " 'setup',\n",
              " '.',\n",
              " 'Ficou',\n",
              " 'massa',\n",
              " '!']"
            ]
          },
          "metadata": {},
          "execution_count": 34
        }
      ]
    },
    {
      "cell_type": "markdown",
      "metadata": {
        "id": "b6d6c1ac"
      },
      "source": [
        "Este código demonstra a tokenização de um texto mais longo com múltiplos parágrafos e pontuação, usando as regras de tokenização do NLTK para o idioma português."
      ]
    },
    {
      "cell_type": "code",
      "metadata": {
        "colab": {
          "base_uri": "https://localhost:8080/"
        },
        "id": "f09653aa",
        "outputId": "bf477d8d-80a0-4c1f-adec-1e1abe99c1ff"
      },
      "source": [
        "texto = \"\"\"O meninio jogou bola ontem às 16:00.\n",
        "Comi um cachorro quente na rua ontem e custou R$5,00! Estava uma delícia\"\"\"\n",
        "\n",
        "nltk.word_tokenize(texto, language='portuguese')"
      ],
      "execution_count": 35,
      "outputs": [
        {
          "output_type": "execute_result",
          "data": {
            "text/plain": [
              "['O',\n",
              " 'meninio',\n",
              " 'jogou',\n",
              " 'bola',\n",
              " 'ontem',\n",
              " 'às',\n",
              " '16:00',\n",
              " '.',\n",
              " 'Comi',\n",
              " 'um',\n",
              " 'cachorro',\n",
              " 'quente',\n",
              " 'na',\n",
              " 'rua',\n",
              " 'ontem',\n",
              " 'e',\n",
              " 'custou',\n",
              " 'R',\n",
              " '$',\n",
              " '5,00',\n",
              " '!',\n",
              " 'Estava',\n",
              " 'uma',\n",
              " 'delícia']"
            ]
          },
          "metadata": {},
          "execution_count": 35
        }
      ]
    },
    {
      "cell_type": "code",
      "source": [
        "import nltk\n",
        "\n",
        "nltk.download('punkt_tab')"
      ],
      "metadata": {
        "colab": {
          "base_uri": "https://localhost:8080/"
        },
        "id": "uCN4upU5HFQz",
        "outputId": "4cc42fe6-9a43-4e05-b988-ce692d862e58"
      },
      "execution_count": 36,
      "outputs": [
        {
          "output_type": "stream",
          "name": "stderr",
          "text": [
            "[nltk_data] Downloading package punkt_tab to /root/nltk_data...\n",
            "[nltk_data]   Package punkt_tab is already up-to-date!\n"
          ]
        },
        {
          "output_type": "execute_result",
          "data": {
            "text/plain": [
              "True"
            ]
          },
          "metadata": {},
          "execution_count": 36
        }
      ]
    },
    {
      "cell_type": "code",
      "source": [
        "text = \"\"\"Hello everyone!!!\"\"\"\n",
        "\n",
        "nltk.word_tokenize(text, language='english')"
      ],
      "metadata": {
        "colab": {
          "base_uri": "https://localhost:8080/"
        },
        "id": "5ykIUCKRSGKn",
        "outputId": "b1477edf-a9e6-45c2-ac61-1dd0c6f2c196"
      },
      "execution_count": 37,
      "outputs": [
        {
          "output_type": "execute_result",
          "data": {
            "text/plain": [
              "['Hello', 'everyone', '!', '!', '!']"
            ]
          },
          "metadata": {},
          "execution_count": 37
        }
      ]
    },
    {
      "cell_type": "code",
      "source": [
        "texto = \"Eu paguei R$456,00 pelo setup. Ficou massa!\"\n",
        "nltk.word_tokenize(texto, language='portuguese')"
      ],
      "metadata": {
        "colab": {
          "base_uri": "https://localhost:8080/"
        },
        "id": "vKfly-JESpY4",
        "outputId": "1cda2c18-dda5-4370-ac31-b0b3f829f1e1"
      },
      "execution_count": 38,
      "outputs": [
        {
          "output_type": "execute_result",
          "data": {
            "text/plain": [
              "['Eu',\n",
              " 'paguei',\n",
              " 'R',\n",
              " '$',\n",
              " '456,00',\n",
              " 'pelo',\n",
              " 'setup',\n",
              " '.',\n",
              " 'Ficou',\n",
              " 'massa',\n",
              " '!']"
            ]
          },
          "metadata": {},
          "execution_count": 38
        }
      ]
    },
    {
      "cell_type": "code",
      "source": [
        "texto = \"\"\"O meninio jogou bola ontem às 16:00.\n",
        "Comi um cachorro quente na rua ontem e custou R$5,00! Estava uma delícia\"\"\"\n",
        "\n",
        "nltk.word_tokenize(texto, language='portuguese')"
      ],
      "metadata": {
        "colab": {
          "base_uri": "https://localhost:8080/"
        },
        "id": "pHmMZb5xS26y",
        "outputId": "749982dd-a5da-43e8-96fb-2b6e977a4c7a"
      },
      "execution_count": 39,
      "outputs": [
        {
          "output_type": "execute_result",
          "data": {
            "text/plain": [
              "['O',\n",
              " 'meninio',\n",
              " 'jogou',\n",
              " 'bola',\n",
              " 'ontem',\n",
              " 'às',\n",
              " '16:00',\n",
              " '.',\n",
              " 'Comi',\n",
              " 'um',\n",
              " 'cachorro',\n",
              " 'quente',\n",
              " 'na',\n",
              " 'rua',\n",
              " 'ontem',\n",
              " 'e',\n",
              " 'custou',\n",
              " 'R',\n",
              " '$',\n",
              " '5,00',\n",
              " '!',\n",
              " 'Estava',\n",
              " 'uma',\n",
              " 'delícia']"
            ]
          },
          "metadata": {},
          "execution_count": 39
        }
      ]
    },
    {
      "cell_type": "markdown",
      "source": [
        "## Capitalização"
      ],
      "metadata": {
        "id": "AR0VBPSrTahQ"
      }
    },
    {
      "cell_type": "code",
      "source": [
        "versos = \"\"\"\n",
        "No meio do caminho tinha uma pedra\n",
        "Tinha uma pedra no meio do caminho\n",
        "\"\"\".upper()\n",
        "print(versos)"
      ],
      "metadata": {
        "colab": {
          "base_uri": "https://localhost:8080/"
        },
        "id": "dwicP8woTdoK",
        "outputId": "deecc0cc-df43-49c3-9771-c338bb7bd1e1"
      },
      "execution_count": 40,
      "outputs": [
        {
          "output_type": "stream",
          "name": "stdout",
          "text": [
            "\n",
            "NO MEIO DO CAMINHO TINHA UMA PEDRA\n",
            "TINHA UMA PEDRA NO MEIO DO CAMINHO\n",
            "\n"
          ]
        }
      ]
    },
    {
      "cell_type": "code",
      "source": [
        "nltk.word_tokenize(versos, language=\"portuguese\")"
      ],
      "metadata": {
        "colab": {
          "base_uri": "https://localhost:8080/"
        },
        "id": "DTsYgPNtTrX0",
        "outputId": "e9c27f0a-86c7-4022-b24c-11a3b8db4fa6"
      },
      "execution_count": 41,
      "outputs": [
        {
          "output_type": "execute_result",
          "data": {
            "text/plain": [
              "['NO',\n",
              " 'MEIO',\n",
              " 'DO',\n",
              " 'CAMINHO',\n",
              " 'TINHA',\n",
              " 'UMA',\n",
              " 'PEDRA',\n",
              " 'TINHA',\n",
              " 'UMA',\n",
              " 'PEDRA',\n",
              " 'NO',\n",
              " 'MEIO',\n",
              " 'DO',\n",
              " 'CAMINHO']"
            ]
          },
          "metadata": {},
          "execution_count": 41
        }
      ]
    },
    {
      "cell_type": "code",
      "source": [
        "texto = \"Estamos na aula de Projeto Integrado. Estamos estudando PLN no momento\"\n",
        "\n",
        "nltk.sent_tokenize(texto, language=\"portuguese\")"
      ],
      "metadata": {
        "colab": {
          "base_uri": "https://localhost:8080/"
        },
        "id": "Z-XeE97wTwhY",
        "outputId": "5889425b-2eb3-4c60-e398-c0da32f9b7a5"
      },
      "execution_count": 42,
      "outputs": [
        {
          "output_type": "execute_result",
          "data": {
            "text/plain": [
              "['Estamos na aula de Projeto Integrado.', 'Estamos estudando PLN no momento']"
            ]
          },
          "metadata": {},
          "execution_count": 42
        }
      ]
    },
    {
      "cell_type": "markdown",
      "source": [
        "## Lematização"
      ],
      "metadata": {
        "id": "ZGYhCGIpUXfZ"
      }
    },
    {
      "cell_type": "code",
      "source": [
        "!python -m spacy download pt_core_news_sm"
      ],
      "metadata": {
        "colab": {
          "base_uri": "https://localhost:8080/"
        },
        "id": "WpygKlQRUaVD",
        "outputId": "1ecf1326-3203-42a4-dde4-ce3d5029f03e"
      },
      "execution_count": 43,
      "outputs": [
        {
          "output_type": "stream",
          "name": "stdout",
          "text": [
            "Collecting pt-core-news-sm==3.8.0\n",
            "  Downloading https://github.com/explosion/spacy-models/releases/download/pt_core_news_sm-3.8.0/pt_core_news_sm-3.8.0-py3-none-any.whl (13.0 MB)\n",
            "\u001b[2K     \u001b[90m━━━━━━━━━━━━━━━━━━━━━━━━━━━━━━━━━━━━━━━━\u001b[0m \u001b[32m13.0/13.0 MB\u001b[0m \u001b[31m89.0 MB/s\u001b[0m eta \u001b[36m0:00:00\u001b[0m\n",
            "\u001b[?25hInstalling collected packages: pt-core-news-sm\n",
            "Successfully installed pt-core-news-sm-3.8.0\n",
            "\u001b[38;5;2m✔ Download and installation successful\u001b[0m\n",
            "You can now load the package via spacy.load('pt_core_news_sm')\n",
            "\u001b[38;5;3m⚠ Restart to reload dependencies\u001b[0m\n",
            "If you are in a Jupyter or Colab notebook, you may need to restart Python in\n",
            "order to load all the package's dependencies. You can do this by selecting the\n",
            "'Restart kernel' or 'Restart runtime' option.\n"
          ]
        }
      ]
    },
    {
      "cell_type": "code",
      "source": [
        "import spacy\n",
        "\n",
        "nlp = spacy.load(\"pt_core_news_sm\")"
      ],
      "metadata": {
        "id": "CzsKweXwWxzT"
      },
      "execution_count": 44,
      "outputs": []
    },
    {
      "cell_type": "code",
      "source": [
        "texto = \"O passado é só uma história que contamos\"\n",
        "\n",
        "doc = nlp(texto)"
      ],
      "metadata": {
        "id": "XAD3GsZYXHBF"
      },
      "execution_count": 45,
      "outputs": []
    },
    {
      "cell_type": "code",
      "source": [
        "type(doc)"
      ],
      "metadata": {
        "colab": {
          "base_uri": "https://localhost:8080/"
        },
        "id": "BaYJ73YZXRpG",
        "outputId": "4d1b0496-1da2-482d-dd78-1aa172280d8e"
      },
      "execution_count": 46,
      "outputs": [
        {
          "output_type": "execute_result",
          "data": {
            "text/plain": [
              "spacy.tokens.doc.Doc"
            ]
          },
          "metadata": {},
          "execution_count": 46
        }
      ]
    },
    {
      "cell_type": "code",
      "source": [
        "for token in doc:\n",
        "  print(token.text, ' --> ', token.lemma_)"
      ],
      "metadata": {
        "colab": {
          "base_uri": "https://localhost:8080/"
        },
        "id": "fX0S3ia2Xap-",
        "outputId": "2150e492-716e-4f58-a416-a3a22f261731"
      },
      "execution_count": 47,
      "outputs": [
        {
          "output_type": "stream",
          "name": "stdout",
          "text": [
            "O  -->  o\n",
            "passado  -->  passado\n",
            "é  -->  ser\n",
            "só  -->  só\n",
            "uma  -->  um\n",
            "história  -->  história\n",
            "que  -->  que\n",
            "contamos  -->  contar\n"
          ]
        }
      ]
    },
    {
      "cell_type": "code",
      "source": [
        "nlp(\"pelo\")[0].lemma_"
      ],
      "metadata": {
        "colab": {
          "base_uri": "https://localhost:8080/",
          "height": 35
        },
        "id": "QomQOICrYLXx",
        "outputId": "76fc0b69-55f1-462e-9a7d-181e6aac704b"
      },
      "execution_count": 48,
      "outputs": [
        {
          "output_type": "execute_result",
          "data": {
            "text/plain": [
              "'por o'"
            ],
            "application/vnd.google.colaboratory.intrinsic+json": {
              "type": "string"
            }
          },
          "metadata": {},
          "execution_count": 48
        }
      ]
    },
    {
      "cell_type": "code",
      "source": [
        "[x.lemma_ for x in nlp(\"pelo menos eu tô melhorando isso. Eu não penteei o pelo do cachorro. Vou estudar mais para a próxima prova...\")]"
      ],
      "metadata": {
        "colab": {
          "base_uri": "https://localhost:8080/"
        },
        "id": "LaWaMkbDYgcK",
        "outputId": "5311970b-b69b-437e-dd95-3f334b9f6d7d"
      },
      "execution_count": 49,
      "outputs": [
        {
          "output_type": "execute_result",
          "data": {
            "text/plain": [
              "['por o',\n",
              " 'menos',\n",
              " 'eu',\n",
              " 'tô',\n",
              " 'melhorar',\n",
              " 'isso',\n",
              " '.',\n",
              " 'eu',\n",
              " 'não',\n",
              " 'penteei',\n",
              " 'o',\n",
              " 'por o',\n",
              " 'de o',\n",
              " 'cachorro',\n",
              " '.',\n",
              " 'vou',\n",
              " 'estudar',\n",
              " 'mais',\n",
              " 'para',\n",
              " 'o',\n",
              " 'próximo',\n",
              " 'prova',\n",
              " '...']"
            ]
          },
          "metadata": {},
          "execution_count": 49
        }
      ]
    },
    {
      "cell_type": "markdown",
      "source": [
        "## Radicalização"
      ],
      "metadata": {
        "id": "BxW9O_XOYFvB"
      }
    },
    {
      "cell_type": "code",
      "source": [
        "import nltk\n",
        "nltk.download('rslp')"
      ],
      "metadata": {
        "colab": {
          "base_uri": "https://localhost:8080/"
        },
        "id": "vRxqbd9fYH8p",
        "outputId": "c5a07b8c-42bd-4a64-f02e-c2d7e5a198c8"
      },
      "execution_count": 50,
      "outputs": [
        {
          "output_type": "stream",
          "name": "stderr",
          "text": [
            "[nltk_data] Downloading package rslp to /root/nltk_data...\n",
            "[nltk_data]   Unzipping stemmers/rslp.zip.\n"
          ]
        },
        {
          "output_type": "execute_result",
          "data": {
            "text/plain": [
              "True"
            ]
          },
          "metadata": {},
          "execution_count": 50
        }
      ]
    },
    {
      "cell_type": "code",
      "source": [
        "versos = \"\"\"O passado é apenas uma história que contamos. E às vezes mentimos.\"\"\"\n",
        "stemmer = nltk.stem.RSLPStemmer()\n",
        "\n",
        "tokens = nltk.word_tokenize(versos, language=\"portuguese\")\n",
        "\n",
        "for token in tokens:\n",
        "  print(token, \" --> \", stemmer.stem(token))"
      ],
      "metadata": {
        "colab": {
          "base_uri": "https://localhost:8080/"
        },
        "id": "al5xYZj4Zn48",
        "outputId": "690c75be-c773-432a-9534-79b5ab0c1457"
      },
      "execution_count": 51,
      "outputs": [
        {
          "output_type": "stream",
          "name": "stdout",
          "text": [
            "O  -->  o\n",
            "passado  -->  pass\n",
            "é  -->  é\n",
            "apenas  -->  apen\n",
            "uma  -->  uma\n",
            "história  -->  histór\n",
            "que  -->  que\n",
            "contamos  -->  cont\n",
            ".  -->  .\n",
            "E  -->  e\n",
            "às  -->  às\n",
            "vezes  -->  vez\n",
            "mentimos  -->  ment\n",
            ".  -->  .\n"
          ]
        }
      ]
    },
    {
      "cell_type": "code",
      "source": [
        "versos = \"\"\"\n",
        "No meio do caminho tinha uma pedra\n",
        "Tinha uma pedra no meio do caminho\n",
        "Tinha uma pedra\n",
        "No meio do caminho tinha uma pedra\n",
        "\"\"\"\n",
        "\n",
        "texto = versos.lower().split('\\n')\n",
        "\n",
        "texto_tok = []\n",
        "for verso in texto:\n",
        "  tokens = nltk.word_tokenize(versos, language=\"portuguese\")\n",
        "  texto_tok.append(tokens)\n",
        "\n",
        "texto_tok"
      ],
      "metadata": {
        "colab": {
          "base_uri": "https://localhost:8080/"
        },
        "id": "vkwwWxk3bMg1",
        "outputId": "c2e2e05b-f04a-458b-d902-9a1c48c51732"
      },
      "execution_count": 52,
      "outputs": [
        {
          "output_type": "execute_result",
          "data": {
            "text/plain": [
              "[['No',\n",
              "  'meio',\n",
              "  'do',\n",
              "  'caminho',\n",
              "  'tinha',\n",
              "  'uma',\n",
              "  'pedra',\n",
              "  'Tinha',\n",
              "  'uma',\n",
              "  'pedra',\n",
              "  'no',\n",
              "  'meio',\n",
              "  'do',\n",
              "  'caminho',\n",
              "  'Tinha',\n",
              "  'uma',\n",
              "  'pedra',\n",
              "  'No',\n",
              "  'meio',\n",
              "  'do',\n",
              "  'caminho',\n",
              "  'tinha',\n",
              "  'uma',\n",
              "  'pedra'],\n",
              " ['No',\n",
              "  'meio',\n",
              "  'do',\n",
              "  'caminho',\n",
              "  'tinha',\n",
              "  'uma',\n",
              "  'pedra',\n",
              "  'Tinha',\n",
              "  'uma',\n",
              "  'pedra',\n",
              "  'no',\n",
              "  'meio',\n",
              "  'do',\n",
              "  'caminho',\n",
              "  'Tinha',\n",
              "  'uma',\n",
              "  'pedra',\n",
              "  'No',\n",
              "  'meio',\n",
              "  'do',\n",
              "  'caminho',\n",
              "  'tinha',\n",
              "  'uma',\n",
              "  'pedra'],\n",
              " ['No',\n",
              "  'meio',\n",
              "  'do',\n",
              "  'caminho',\n",
              "  'tinha',\n",
              "  'uma',\n",
              "  'pedra',\n",
              "  'Tinha',\n",
              "  'uma',\n",
              "  'pedra',\n",
              "  'no',\n",
              "  'meio',\n",
              "  'do',\n",
              "  'caminho',\n",
              "  'Tinha',\n",
              "  'uma',\n",
              "  'pedra',\n",
              "  'No',\n",
              "  'meio',\n",
              "  'do',\n",
              "  'caminho',\n",
              "  'tinha',\n",
              "  'uma',\n",
              "  'pedra'],\n",
              " ['No',\n",
              "  'meio',\n",
              "  'do',\n",
              "  'caminho',\n",
              "  'tinha',\n",
              "  'uma',\n",
              "  'pedra',\n",
              "  'Tinha',\n",
              "  'uma',\n",
              "  'pedra',\n",
              "  'no',\n",
              "  'meio',\n",
              "  'do',\n",
              "  'caminho',\n",
              "  'Tinha',\n",
              "  'uma',\n",
              "  'pedra',\n",
              "  'No',\n",
              "  'meio',\n",
              "  'do',\n",
              "  'caminho',\n",
              "  'tinha',\n",
              "  'uma',\n",
              "  'pedra'],\n",
              " ['No',\n",
              "  'meio',\n",
              "  'do',\n",
              "  'caminho',\n",
              "  'tinha',\n",
              "  'uma',\n",
              "  'pedra',\n",
              "  'Tinha',\n",
              "  'uma',\n",
              "  'pedra',\n",
              "  'no',\n",
              "  'meio',\n",
              "  'do',\n",
              "  'caminho',\n",
              "  'Tinha',\n",
              "  'uma',\n",
              "  'pedra',\n",
              "  'No',\n",
              "  'meio',\n",
              "  'do',\n",
              "  'caminho',\n",
              "  'tinha',\n",
              "  'uma',\n",
              "  'pedra'],\n",
              " ['No',\n",
              "  'meio',\n",
              "  'do',\n",
              "  'caminho',\n",
              "  'tinha',\n",
              "  'uma',\n",
              "  'pedra',\n",
              "  'Tinha',\n",
              "  'uma',\n",
              "  'pedra',\n",
              "  'no',\n",
              "  'meio',\n",
              "  'do',\n",
              "  'caminho',\n",
              "  'Tinha',\n",
              "  'uma',\n",
              "  'pedra',\n",
              "  'No',\n",
              "  'meio',\n",
              "  'do',\n",
              "  'caminho',\n",
              "  'tinha',\n",
              "  'uma',\n",
              "  'pedra']]"
            ]
          },
          "metadata": {},
          "execution_count": 52
        }
      ]
    },
    {
      "cell_type": "markdown",
      "source": [
        "## Bag of Words"
      ],
      "metadata": {
        "id": "mPtUP0wgggv0"
      }
    },
    {
      "cell_type": "code",
      "source": [
        "from sklearn.feature_extraction.text import CountVectorizer\n",
        "import pandas as pd"
      ],
      "metadata": {
        "id": "KG5NNaPBgkFk"
      },
      "execution_count": 53,
      "outputs": []
    },
    {
      "cell_type": "code",
      "source": [
        "corpus = [\n",
        "'No meio do caminho tinha uma pedra',\n",
        "'Tinha uma pedra no meio do caminho',\n",
        "'Tinha uma pedra',\n",
        "'No meio do caminho tinha uma pedra'\n",
        "]"
      ],
      "metadata": {
        "id": "HApbNDuxgc2M"
      },
      "execution_count": 54,
      "outputs": []
    },
    {
      "cell_type": "code",
      "source": [
        "vectorizer = CountVectorizer()\n",
        "\n",
        "vetores = vectorizer.fit_transform(corpus)\n",
        "vocab = vectorizer.get_feature_names_out()\n",
        "\n",
        "pd.DataFrame(vetores.toarray(), columns=vocab)"
      ],
      "metadata": {
        "colab": {
          "base_uri": "https://localhost:8080/",
          "height": 174
        },
        "id": "2hdo-iIkgx8s",
        "outputId": "f56d2c5d-eabd-4ea1-8f1b-93e861c063ea"
      },
      "execution_count": 55,
      "outputs": [
        {
          "output_type": "execute_result",
          "data": {
            "text/plain": [
              "   caminho  do  meio  no  pedra  tinha  uma\n",
              "0        1   1     1   1      1      1    1\n",
              "1        1   1     1   1      1      1    1\n",
              "2        0   0     0   0      1      1    1\n",
              "3        1   1     1   1      1      1    1"
            ],
            "text/html": [
              "\n",
              "  <div id=\"df-37c7ce24-5711-48e9-822d-bb06ffeeb0da\" class=\"colab-df-container\">\n",
              "    <div>\n",
              "<style scoped>\n",
              "    .dataframe tbody tr th:only-of-type {\n",
              "        vertical-align: middle;\n",
              "    }\n",
              "\n",
              "    .dataframe tbody tr th {\n",
              "        vertical-align: top;\n",
              "    }\n",
              "\n",
              "    .dataframe thead th {\n",
              "        text-align: right;\n",
              "    }\n",
              "</style>\n",
              "<table border=\"1\" class=\"dataframe\">\n",
              "  <thead>\n",
              "    <tr style=\"text-align: right;\">\n",
              "      <th></th>\n",
              "      <th>caminho</th>\n",
              "      <th>do</th>\n",
              "      <th>meio</th>\n",
              "      <th>no</th>\n",
              "      <th>pedra</th>\n",
              "      <th>tinha</th>\n",
              "      <th>uma</th>\n",
              "    </tr>\n",
              "  </thead>\n",
              "  <tbody>\n",
              "    <tr>\n",
              "      <th>0</th>\n",
              "      <td>1</td>\n",
              "      <td>1</td>\n",
              "      <td>1</td>\n",
              "      <td>1</td>\n",
              "      <td>1</td>\n",
              "      <td>1</td>\n",
              "      <td>1</td>\n",
              "    </tr>\n",
              "    <tr>\n",
              "      <th>1</th>\n",
              "      <td>1</td>\n",
              "      <td>1</td>\n",
              "      <td>1</td>\n",
              "      <td>1</td>\n",
              "      <td>1</td>\n",
              "      <td>1</td>\n",
              "      <td>1</td>\n",
              "    </tr>\n",
              "    <tr>\n",
              "      <th>2</th>\n",
              "      <td>0</td>\n",
              "      <td>0</td>\n",
              "      <td>0</td>\n",
              "      <td>0</td>\n",
              "      <td>1</td>\n",
              "      <td>1</td>\n",
              "      <td>1</td>\n",
              "    </tr>\n",
              "    <tr>\n",
              "      <th>3</th>\n",
              "      <td>1</td>\n",
              "      <td>1</td>\n",
              "      <td>1</td>\n",
              "      <td>1</td>\n",
              "      <td>1</td>\n",
              "      <td>1</td>\n",
              "      <td>1</td>\n",
              "    </tr>\n",
              "  </tbody>\n",
              "</table>\n",
              "</div>\n",
              "    <div class=\"colab-df-buttons\">\n",
              "\n",
              "  <div class=\"colab-df-container\">\n",
              "    <button class=\"colab-df-convert\" onclick=\"convertToInteractive('df-37c7ce24-5711-48e9-822d-bb06ffeeb0da')\"\n",
              "            title=\"Convert this dataframe to an interactive table.\"\n",
              "            style=\"display:none;\">\n",
              "\n",
              "  <svg xmlns=\"http://www.w3.org/2000/svg\" height=\"24px\" viewBox=\"0 -960 960 960\">\n",
              "    <path d=\"M120-120v-720h720v720H120Zm60-500h600v-160H180v160Zm220 220h160v-160H400v160Zm0 220h160v-160H400v160ZM180-400h160v-160H180v160Zm440 0h160v-160H620v160ZM180-180h160v-160H180v160Zm440 0h160v-160H620v160Z\"/>\n",
              "  </svg>\n",
              "    </button>\n",
              "\n",
              "  <style>\n",
              "    .colab-df-container {\n",
              "      display:flex;\n",
              "      gap: 12px;\n",
              "    }\n",
              "\n",
              "    .colab-df-convert {\n",
              "      background-color: #E8F0FE;\n",
              "      border: none;\n",
              "      border-radius: 50%;\n",
              "      cursor: pointer;\n",
              "      display: none;\n",
              "      fill: #1967D2;\n",
              "      height: 32px;\n",
              "      padding: 0 0 0 0;\n",
              "      width: 32px;\n",
              "    }\n",
              "\n",
              "    .colab-df-convert:hover {\n",
              "      background-color: #E2EBFA;\n",
              "      box-shadow: 0px 1px 2px rgba(60, 64, 67, 0.3), 0px 1px 3px 1px rgba(60, 64, 67, 0.15);\n",
              "      fill: #174EA6;\n",
              "    }\n",
              "\n",
              "    .colab-df-buttons div {\n",
              "      margin-bottom: 4px;\n",
              "    }\n",
              "\n",
              "    [theme=dark] .colab-df-convert {\n",
              "      background-color: #3B4455;\n",
              "      fill: #D2E3FC;\n",
              "    }\n",
              "\n",
              "    [theme=dark] .colab-df-convert:hover {\n",
              "      background-color: #434B5C;\n",
              "      box-shadow: 0px 1px 3px 1px rgba(0, 0, 0, 0.15);\n",
              "      filter: drop-shadow(0px 1px 2px rgba(0, 0, 0, 0.3));\n",
              "      fill: #FFFFFF;\n",
              "    }\n",
              "  </style>\n",
              "\n",
              "    <script>\n",
              "      const buttonEl =\n",
              "        document.querySelector('#df-37c7ce24-5711-48e9-822d-bb06ffeeb0da button.colab-df-convert');\n",
              "      buttonEl.style.display =\n",
              "        google.colab.kernel.accessAllowed ? 'block' : 'none';\n",
              "\n",
              "      async function convertToInteractive(key) {\n",
              "        const element = document.querySelector('#df-37c7ce24-5711-48e9-822d-bb06ffeeb0da');\n",
              "        const dataTable =\n",
              "          await google.colab.kernel.invokeFunction('convertToInteractive',\n",
              "                                                    [key], {});\n",
              "        if (!dataTable) return;\n",
              "\n",
              "        const docLinkHtml = 'Like what you see? Visit the ' +\n",
              "          '<a target=\"_blank\" href=https://colab.research.google.com/notebooks/data_table.ipynb>data table notebook</a>'\n",
              "          + ' to learn more about interactive tables.';\n",
              "        element.innerHTML = '';\n",
              "        dataTable['output_type'] = 'display_data';\n",
              "        await google.colab.output.renderOutput(dataTable, element);\n",
              "        const docLink = document.createElement('div');\n",
              "        docLink.innerHTML = docLinkHtml;\n",
              "        element.appendChild(docLink);\n",
              "      }\n",
              "    </script>\n",
              "  </div>\n",
              "\n",
              "\n",
              "    <div id=\"df-01d2e6d2-b8a5-4ce4-8d14-3739e61f1a50\">\n",
              "      <button class=\"colab-df-quickchart\" onclick=\"quickchart('df-01d2e6d2-b8a5-4ce4-8d14-3739e61f1a50')\"\n",
              "                title=\"Suggest charts\"\n",
              "                style=\"display:none;\">\n",
              "\n",
              "<svg xmlns=\"http://www.w3.org/2000/svg\" height=\"24px\"viewBox=\"0 0 24 24\"\n",
              "     width=\"24px\">\n",
              "    <g>\n",
              "        <path d=\"M19 3H5c-1.1 0-2 .9-2 2v14c0 1.1.9 2 2 2h14c1.1 0 2-.9 2-2V5c0-1.1-.9-2-2-2zM9 17H7v-7h2v7zm4 0h-2V7h2v10zm4 0h-2v-4h2v4z\"/>\n",
              "    </g>\n",
              "</svg>\n",
              "      </button>\n",
              "\n",
              "<style>\n",
              "  .colab-df-quickchart {\n",
              "      --bg-color: #E8F0FE;\n",
              "      --fill-color: #1967D2;\n",
              "      --hover-bg-color: #E2EBFA;\n",
              "      --hover-fill-color: #174EA6;\n",
              "      --disabled-fill-color: #AAA;\n",
              "      --disabled-bg-color: #DDD;\n",
              "  }\n",
              "\n",
              "  [theme=dark] .colab-df-quickchart {\n",
              "      --bg-color: #3B4455;\n",
              "      --fill-color: #D2E3FC;\n",
              "      --hover-bg-color: #434B5C;\n",
              "      --hover-fill-color: #FFFFFF;\n",
              "      --disabled-bg-color: #3B4455;\n",
              "      --disabled-fill-color: #666;\n",
              "  }\n",
              "\n",
              "  .colab-df-quickchart {\n",
              "    background-color: var(--bg-color);\n",
              "    border: none;\n",
              "    border-radius: 50%;\n",
              "    cursor: pointer;\n",
              "    display: none;\n",
              "    fill: var(--fill-color);\n",
              "    height: 32px;\n",
              "    padding: 0;\n",
              "    width: 32px;\n",
              "  }\n",
              "\n",
              "  .colab-df-quickchart:hover {\n",
              "    background-color: var(--hover-bg-color);\n",
              "    box-shadow: 0 1px 2px rgba(60, 64, 67, 0.3), 0 1px 3px 1px rgba(60, 64, 67, 0.15);\n",
              "    fill: var(--button-hover-fill-color);\n",
              "  }\n",
              "\n",
              "  .colab-df-quickchart-complete:disabled,\n",
              "  .colab-df-quickchart-complete:disabled:hover {\n",
              "    background-color: var(--disabled-bg-color);\n",
              "    fill: var(--disabled-fill-color);\n",
              "    box-shadow: none;\n",
              "  }\n",
              "\n",
              "  .colab-df-spinner {\n",
              "    border: 2px solid var(--fill-color);\n",
              "    border-color: transparent;\n",
              "    border-bottom-color: var(--fill-color);\n",
              "    animation:\n",
              "      spin 1s steps(1) infinite;\n",
              "  }\n",
              "\n",
              "  @keyframes spin {\n",
              "    0% {\n",
              "      border-color: transparent;\n",
              "      border-bottom-color: var(--fill-color);\n",
              "      border-left-color: var(--fill-color);\n",
              "    }\n",
              "    20% {\n",
              "      border-color: transparent;\n",
              "      border-left-color: var(--fill-color);\n",
              "      border-top-color: var(--fill-color);\n",
              "    }\n",
              "    30% {\n",
              "      border-color: transparent;\n",
              "      border-left-color: var(--fill-color);\n",
              "      border-top-color: var(--fill-color);\n",
              "      border-right-color: var(--fill-color);\n",
              "    }\n",
              "    40% {\n",
              "      border-color: transparent;\n",
              "      border-right-color: var(--fill-color);\n",
              "      border-top-color: var(--fill-color);\n",
              "    }\n",
              "    60% {\n",
              "      border-color: transparent;\n",
              "      border-right-color: var(--fill-color);\n",
              "    }\n",
              "    80% {\n",
              "      border-color: transparent;\n",
              "      border-right-color: var(--fill-color);\n",
              "      border-bottom-color: var(--fill-color);\n",
              "    }\n",
              "    90% {\n",
              "      border-color: transparent;\n",
              "      border-bottom-color: var(--fill-color);\n",
              "    }\n",
              "  }\n",
              "</style>\n",
              "\n",
              "      <script>\n",
              "        async function quickchart(key) {\n",
              "          const quickchartButtonEl =\n",
              "            document.querySelector('#' + key + ' button');\n",
              "          quickchartButtonEl.disabled = true;  // To prevent multiple clicks.\n",
              "          quickchartButtonEl.classList.add('colab-df-spinner');\n",
              "          try {\n",
              "            const charts = await google.colab.kernel.invokeFunction(\n",
              "                'suggestCharts', [key], {});\n",
              "          } catch (error) {\n",
              "            console.error('Error during call to suggestCharts:', error);\n",
              "          }\n",
              "          quickchartButtonEl.classList.remove('colab-df-spinner');\n",
              "          quickchartButtonEl.classList.add('colab-df-quickchart-complete');\n",
              "        }\n",
              "        (() => {\n",
              "          let quickchartButtonEl =\n",
              "            document.querySelector('#df-01d2e6d2-b8a5-4ce4-8d14-3739e61f1a50 button');\n",
              "          quickchartButtonEl.style.display =\n",
              "            google.colab.kernel.accessAllowed ? 'block' : 'none';\n",
              "        })();\n",
              "      </script>\n",
              "    </div>\n",
              "\n",
              "    </div>\n",
              "  </div>\n"
            ],
            "application/vnd.google.colaboratory.intrinsic+json": {
              "type": "dataframe",
              "summary": "{\n  \"name\": \"pd\",\n  \"rows\": 4,\n  \"fields\": [\n    {\n      \"column\": \"caminho\",\n      \"properties\": {\n        \"dtype\": \"number\",\n        \"std\": 0,\n        \"min\": 0,\n        \"max\": 1,\n        \"num_unique_values\": 2,\n        \"samples\": [\n          0,\n          1\n        ],\n        \"semantic_type\": \"\",\n        \"description\": \"\"\n      }\n    },\n    {\n      \"column\": \"do\",\n      \"properties\": {\n        \"dtype\": \"number\",\n        \"std\": 0,\n        \"min\": 0,\n        \"max\": 1,\n        \"num_unique_values\": 2,\n        \"samples\": [\n          0,\n          1\n        ],\n        \"semantic_type\": \"\",\n        \"description\": \"\"\n      }\n    },\n    {\n      \"column\": \"meio\",\n      \"properties\": {\n        \"dtype\": \"number\",\n        \"std\": 0,\n        \"min\": 0,\n        \"max\": 1,\n        \"num_unique_values\": 2,\n        \"samples\": [\n          0,\n          1\n        ],\n        \"semantic_type\": \"\",\n        \"description\": \"\"\n      }\n    },\n    {\n      \"column\": \"no\",\n      \"properties\": {\n        \"dtype\": \"number\",\n        \"std\": 0,\n        \"min\": 0,\n        \"max\": 1,\n        \"num_unique_values\": 2,\n        \"samples\": [\n          0,\n          1\n        ],\n        \"semantic_type\": \"\",\n        \"description\": \"\"\n      }\n    },\n    {\n      \"column\": \"pedra\",\n      \"properties\": {\n        \"dtype\": \"number\",\n        \"std\": 0,\n        \"min\": 1,\n        \"max\": 1,\n        \"num_unique_values\": 1,\n        \"samples\": [\n          1\n        ],\n        \"semantic_type\": \"\",\n        \"description\": \"\"\n      }\n    },\n    {\n      \"column\": \"tinha\",\n      \"properties\": {\n        \"dtype\": \"number\",\n        \"std\": 0,\n        \"min\": 1,\n        \"max\": 1,\n        \"num_unique_values\": 1,\n        \"samples\": [\n          1\n        ],\n        \"semantic_type\": \"\",\n        \"description\": \"\"\n      }\n    },\n    {\n      \"column\": \"uma\",\n      \"properties\": {\n        \"dtype\": \"number\",\n        \"std\": 0,\n        \"min\": 1,\n        \"max\": 1,\n        \"num_unique_values\": 1,\n        \"samples\": [\n          1\n        ],\n        \"semantic_type\": \"\",\n        \"description\": \"\"\n      }\n    }\n  ]\n}"
            }
          },
          "metadata": {},
          "execution_count": 55
        }
      ]
    },
    {
      "cell_type": "code",
      "source": [
        "import nltk\n",
        "nltk.download('stopwords')\n",
        "stopwords = nltk.corpus.stopwords.words('portuguese')"
      ],
      "metadata": {
        "colab": {
          "base_uri": "https://localhost:8080/"
        },
        "id": "vYFwtgIDjCNO",
        "outputId": "4f06a4e5-bd59-4c39-ac83-59a3b0cc1910"
      },
      "execution_count": 56,
      "outputs": [
        {
          "output_type": "stream",
          "name": "stderr",
          "text": [
            "[nltk_data] Downloading package stopwords to /root/nltk_data...\n",
            "[nltk_data]   Unzipping corpora/stopwords.zip.\n"
          ]
        }
      ]
    },
    {
      "cell_type": "code",
      "source": [
        "vectorizer = CountVectorizer(stop_words=stopwords)\n",
        "\n",
        "vetores = vectorizer.fit_transform(corpus)\n",
        "vocab = vectorizer.get_feature_names_out()\n",
        "\n",
        "pd.DataFrame(vetores.toarray(), columns=vocab)"
      ],
      "metadata": {
        "colab": {
          "base_uri": "https://localhost:8080/",
          "height": 174
        },
        "id": "uQky7H1niXXk",
        "outputId": "3ad7f7ad-5683-44b1-d645-e2af7ad52a20"
      },
      "execution_count": 57,
      "outputs": [
        {
          "output_type": "execute_result",
          "data": {
            "text/plain": [
              "   caminho  meio  pedra\n",
              "0        1     1      1\n",
              "1        1     1      1\n",
              "2        0     0      1\n",
              "3        1     1      1"
            ],
            "text/html": [
              "\n",
              "  <div id=\"df-01a592d0-fe05-408f-b579-1283adc8d334\" class=\"colab-df-container\">\n",
              "    <div>\n",
              "<style scoped>\n",
              "    .dataframe tbody tr th:only-of-type {\n",
              "        vertical-align: middle;\n",
              "    }\n",
              "\n",
              "    .dataframe tbody tr th {\n",
              "        vertical-align: top;\n",
              "    }\n",
              "\n",
              "    .dataframe thead th {\n",
              "        text-align: right;\n",
              "    }\n",
              "</style>\n",
              "<table border=\"1\" class=\"dataframe\">\n",
              "  <thead>\n",
              "    <tr style=\"text-align: right;\">\n",
              "      <th></th>\n",
              "      <th>caminho</th>\n",
              "      <th>meio</th>\n",
              "      <th>pedra</th>\n",
              "    </tr>\n",
              "  </thead>\n",
              "  <tbody>\n",
              "    <tr>\n",
              "      <th>0</th>\n",
              "      <td>1</td>\n",
              "      <td>1</td>\n",
              "      <td>1</td>\n",
              "    </tr>\n",
              "    <tr>\n",
              "      <th>1</th>\n",
              "      <td>1</td>\n",
              "      <td>1</td>\n",
              "      <td>1</td>\n",
              "    </tr>\n",
              "    <tr>\n",
              "      <th>2</th>\n",
              "      <td>0</td>\n",
              "      <td>0</td>\n",
              "      <td>1</td>\n",
              "    </tr>\n",
              "    <tr>\n",
              "      <th>3</th>\n",
              "      <td>1</td>\n",
              "      <td>1</td>\n",
              "      <td>1</td>\n",
              "    </tr>\n",
              "  </tbody>\n",
              "</table>\n",
              "</div>\n",
              "    <div class=\"colab-df-buttons\">\n",
              "\n",
              "  <div class=\"colab-df-container\">\n",
              "    <button class=\"colab-df-convert\" onclick=\"convertToInteractive('df-01a592d0-fe05-408f-b579-1283adc8d334')\"\n",
              "            title=\"Convert this dataframe to an interactive table.\"\n",
              "            style=\"display:none;\">\n",
              "\n",
              "  <svg xmlns=\"http://www.w3.org/2000/svg\" height=\"24px\" viewBox=\"0 -960 960 960\">\n",
              "    <path d=\"M120-120v-720h720v720H120Zm60-500h600v-160H180v160Zm220 220h160v-160H400v160Zm0 220h160v-160H400v160ZM180-400h160v-160H180v160Zm440 0h160v-160H620v160ZM180-180h160v-160H180v160Zm440 0h160v-160H620v160Z\"/>\n",
              "  </svg>\n",
              "    </button>\n",
              "\n",
              "  <style>\n",
              "    .colab-df-container {\n",
              "      display:flex;\n",
              "      gap: 12px;\n",
              "    }\n",
              "\n",
              "    .colab-df-convert {\n",
              "      background-color: #E8F0FE;\n",
              "      border: none;\n",
              "      border-radius: 50%;\n",
              "      cursor: pointer;\n",
              "      display: none;\n",
              "      fill: #1967D2;\n",
              "      height: 32px;\n",
              "      padding: 0 0 0 0;\n",
              "      width: 32px;\n",
              "    }\n",
              "\n",
              "    .colab-df-convert:hover {\n",
              "      background-color: #E2EBFA;\n",
              "      box-shadow: 0px 1px 2px rgba(60, 64, 67, 0.3), 0px 1px 3px 1px rgba(60, 64, 67, 0.15);\n",
              "      fill: #174EA6;\n",
              "    }\n",
              "\n",
              "    .colab-df-buttons div {\n",
              "      margin-bottom: 4px;\n",
              "    }\n",
              "\n",
              "    [theme=dark] .colab-df-convert {\n",
              "      background-color: #3B4455;\n",
              "      fill: #D2E3FC;\n",
              "    }\n",
              "\n",
              "    [theme=dark] .colab-df-convert:hover {\n",
              "      background-color: #434B5C;\n",
              "      box-shadow: 0px 1px 3px 1px rgba(0, 0, 0, 0.15);\n",
              "      filter: drop-shadow(0px 1px 2px rgba(0, 0, 0, 0.3));\n",
              "      fill: #FFFFFF;\n",
              "    }\n",
              "  </style>\n",
              "\n",
              "    <script>\n",
              "      const buttonEl =\n",
              "        document.querySelector('#df-01a592d0-fe05-408f-b579-1283adc8d334 button.colab-df-convert');\n",
              "      buttonEl.style.display =\n",
              "        google.colab.kernel.accessAllowed ? 'block' : 'none';\n",
              "\n",
              "      async function convertToInteractive(key) {\n",
              "        const element = document.querySelector('#df-01a592d0-fe05-408f-b579-1283adc8d334');\n",
              "        const dataTable =\n",
              "          await google.colab.kernel.invokeFunction('convertToInteractive',\n",
              "                                                    [key], {});\n",
              "        if (!dataTable) return;\n",
              "\n",
              "        const docLinkHtml = 'Like what you see? Visit the ' +\n",
              "          '<a target=\"_blank\" href=https://colab.research.google.com/notebooks/data_table.ipynb>data table notebook</a>'\n",
              "          + ' to learn more about interactive tables.';\n",
              "        element.innerHTML = '';\n",
              "        dataTable['output_type'] = 'display_data';\n",
              "        await google.colab.output.renderOutput(dataTable, element);\n",
              "        const docLink = document.createElement('div');\n",
              "        docLink.innerHTML = docLinkHtml;\n",
              "        element.appendChild(docLink);\n",
              "      }\n",
              "    </script>\n",
              "  </div>\n",
              "\n",
              "\n",
              "    <div id=\"df-29ce0cd1-4ef1-460e-b78e-16e81cb46171\">\n",
              "      <button class=\"colab-df-quickchart\" onclick=\"quickchart('df-29ce0cd1-4ef1-460e-b78e-16e81cb46171')\"\n",
              "                title=\"Suggest charts\"\n",
              "                style=\"display:none;\">\n",
              "\n",
              "<svg xmlns=\"http://www.w3.org/2000/svg\" height=\"24px\"viewBox=\"0 0 24 24\"\n",
              "     width=\"24px\">\n",
              "    <g>\n",
              "        <path d=\"M19 3H5c-1.1 0-2 .9-2 2v14c0 1.1.9 2 2 2h14c1.1 0 2-.9 2-2V5c0-1.1-.9-2-2-2zM9 17H7v-7h2v7zm4 0h-2V7h2v10zm4 0h-2v-4h2v4z\"/>\n",
              "    </g>\n",
              "</svg>\n",
              "      </button>\n",
              "\n",
              "<style>\n",
              "  .colab-df-quickchart {\n",
              "      --bg-color: #E8F0FE;\n",
              "      --fill-color: #1967D2;\n",
              "      --hover-bg-color: #E2EBFA;\n",
              "      --hover-fill-color: #174EA6;\n",
              "      --disabled-fill-color: #AAA;\n",
              "      --disabled-bg-color: #DDD;\n",
              "  }\n",
              "\n",
              "  [theme=dark] .colab-df-quickchart {\n",
              "      --bg-color: #3B4455;\n",
              "      --fill-color: #D2E3FC;\n",
              "      --hover-bg-color: #434B5C;\n",
              "      --hover-fill-color: #FFFFFF;\n",
              "      --disabled-bg-color: #3B4455;\n",
              "      --disabled-fill-color: #666;\n",
              "  }\n",
              "\n",
              "  .colab-df-quickchart {\n",
              "    background-color: var(--bg-color);\n",
              "    border: none;\n",
              "    border-radius: 50%;\n",
              "    cursor: pointer;\n",
              "    display: none;\n",
              "    fill: var(--fill-color);\n",
              "    height: 32px;\n",
              "    padding: 0;\n",
              "    width: 32px;\n",
              "  }\n",
              "\n",
              "  .colab-df-quickchart:hover {\n",
              "    background-color: var(--hover-bg-color);\n",
              "    box-shadow: 0 1px 2px rgba(60, 64, 67, 0.3), 0 1px 3px 1px rgba(60, 64, 67, 0.15);\n",
              "    fill: var(--button-hover-fill-color);\n",
              "  }\n",
              "\n",
              "  .colab-df-quickchart-complete:disabled,\n",
              "  .colab-df-quickchart-complete:disabled:hover {\n",
              "    background-color: var(--disabled-bg-color);\n",
              "    fill: var(--disabled-fill-color);\n",
              "    box-shadow: none;\n",
              "  }\n",
              "\n",
              "  .colab-df-spinner {\n",
              "    border: 2px solid var(--fill-color);\n",
              "    border-color: transparent;\n",
              "    border-bottom-color: var(--fill-color);\n",
              "    animation:\n",
              "      spin 1s steps(1) infinite;\n",
              "  }\n",
              "\n",
              "  @keyframes spin {\n",
              "    0% {\n",
              "      border-color: transparent;\n",
              "      border-bottom-color: var(--fill-color);\n",
              "      border-left-color: var(--fill-color);\n",
              "    }\n",
              "    20% {\n",
              "      border-color: transparent;\n",
              "      border-left-color: var(--fill-color);\n",
              "      border-top-color: var(--fill-color);\n",
              "    }\n",
              "    30% {\n",
              "      border-color: transparent;\n",
              "      border-left-color: var(--fill-color);\n",
              "      border-top-color: var(--fill-color);\n",
              "      border-right-color: var(--fill-color);\n",
              "    }\n",
              "    40% {\n",
              "      border-color: transparent;\n",
              "      border-right-color: var(--fill-color);\n",
              "      border-top-color: var(--fill-color);\n",
              "    }\n",
              "    60% {\n",
              "      border-color: transparent;\n",
              "      border-right-color: var(--fill-color);\n",
              "    }\n",
              "    80% {\n",
              "      border-color: transparent;\n",
              "      border-right-color: var(--fill-color);\n",
              "      border-bottom-color: var(--fill-color);\n",
              "    }\n",
              "    90% {\n",
              "      border-color: transparent;\n",
              "      border-bottom-color: var(--fill-color);\n",
              "    }\n",
              "  }\n",
              "</style>\n",
              "\n",
              "      <script>\n",
              "        async function quickchart(key) {\n",
              "          const quickchartButtonEl =\n",
              "            document.querySelector('#' + key + ' button');\n",
              "          quickchartButtonEl.disabled = true;  // To prevent multiple clicks.\n",
              "          quickchartButtonEl.classList.add('colab-df-spinner');\n",
              "          try {\n",
              "            const charts = await google.colab.kernel.invokeFunction(\n",
              "                'suggestCharts', [key], {});\n",
              "          } catch (error) {\n",
              "            console.error('Error during call to suggestCharts:', error);\n",
              "          }\n",
              "          quickchartButtonEl.classList.remove('colab-df-spinner');\n",
              "          quickchartButtonEl.classList.add('colab-df-quickchart-complete');\n",
              "        }\n",
              "        (() => {\n",
              "          let quickchartButtonEl =\n",
              "            document.querySelector('#df-29ce0cd1-4ef1-460e-b78e-16e81cb46171 button');\n",
              "          quickchartButtonEl.style.display =\n",
              "            google.colab.kernel.accessAllowed ? 'block' : 'none';\n",
              "        })();\n",
              "      </script>\n",
              "    </div>\n",
              "\n",
              "    </div>\n",
              "  </div>\n"
            ],
            "application/vnd.google.colaboratory.intrinsic+json": {
              "type": "dataframe",
              "summary": "{\n  \"name\": \"pd\",\n  \"rows\": 4,\n  \"fields\": [\n    {\n      \"column\": \"caminho\",\n      \"properties\": {\n        \"dtype\": \"number\",\n        \"std\": 0,\n        \"min\": 0,\n        \"max\": 1,\n        \"num_unique_values\": 2,\n        \"samples\": [\n          0,\n          1\n        ],\n        \"semantic_type\": \"\",\n        \"description\": \"\"\n      }\n    },\n    {\n      \"column\": \"meio\",\n      \"properties\": {\n        \"dtype\": \"number\",\n        \"std\": 0,\n        \"min\": 0,\n        \"max\": 1,\n        \"num_unique_values\": 2,\n        \"samples\": [\n          0,\n          1\n        ],\n        \"semantic_type\": \"\",\n        \"description\": \"\"\n      }\n    },\n    {\n      \"column\": \"pedra\",\n      \"properties\": {\n        \"dtype\": \"number\",\n        \"std\": 0,\n        \"min\": 1,\n        \"max\": 1,\n        \"num_unique_values\": 1,\n        \"samples\": [\n          1\n        ],\n        \"semantic_type\": \"\",\n        \"description\": \"\"\n      }\n    }\n  ]\n}"
            }
          },
          "metadata": {},
          "execution_count": 57
        }
      ]
    }
  ]
}