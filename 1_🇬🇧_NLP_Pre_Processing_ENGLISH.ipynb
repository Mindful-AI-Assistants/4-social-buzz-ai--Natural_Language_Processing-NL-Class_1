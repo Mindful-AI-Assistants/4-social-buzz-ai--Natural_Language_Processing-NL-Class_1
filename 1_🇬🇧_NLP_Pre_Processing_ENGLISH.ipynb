{
  "nbformat": 4,
  "nbformat_minor": 0,
  "metadata": {
    "colab": {
      "provenance": []
    },
    "kernelspec": {
      "name": "python3",
      "display_name": "Python 3"
    },
    "language_info": {
      "name": "python"
    }
  },
  "cells": [
    {
      "cell_type": "markdown",
      "source": [
        "## 1) Tokenization"
      ],
      "metadata": {
        "id": "Dj5Khm1kH1fB"
      }
    },
    {
      "cell_type": "code",
      "metadata": {
        "id": "1831dde7"
      },
      "source": [
        "import re"
      ],
      "execution_count": 60,
      "outputs": []
    },
    {
      "cell_type": "markdown",
      "metadata": {
        "id": "3e9ae0b0"
      },
      "source": [
        "This cell defines a simple string in the `texto` variable."
      ]
    },
    {
      "cell_type": "code",
      "metadata": {
        "id": "b15da8d6"
      },
      "source": [
        "texto = \"No meio do caminho tinha uma pedra.\""
      ],
      "execution_count": 61,
      "outputs": []
    },
    {
      "cell_type": "markdown",
      "metadata": {
        "id": "de94890a"
      },
      "source": [
        "This code again uses the `split()` method to split the new `texto` string into a list of words. Note that punctuation is still attached to the words."
      ]
    },
    {
      "cell_type": "code",
      "metadata": {
        "colab": {
          "base_uri": "https://localhost:8080/"
        },
        "id": "2dffe7d7",
        "outputId": "1c21a45e-bcfa-480e-9b27-50f394b48c49"
      },
      "source": [
        "texto.split()"
      ],
      "execution_count": 62,
      "outputs": [
        {
          "output_type": "execute_result",
          "data": {
            "text/plain": [
              "['No', 'meio', 'do', 'caminho', 'tinha', 'uma', 'pedra.']"
            ]
          },
          "metadata": {},
          "execution_count": 62
        }
      ]
    },
    {
      "cell_type": "markdown",
      "metadata": {
        "id": "105c8be8"
      },
      "source": [
        "Esta célula redefine a variável `texto` com uma string diferente, contendo pontuação."
      ]
    },
    {
      "cell_type": "code",
      "metadata": {
        "id": "597347b2"
      },
      "source": [
        "texto = \"Olá, tudo bem? Em que posso ajudá-lo hoje?\""
      ],
      "execution_count": 63,
      "outputs": []
    },
    {
      "cell_type": "markdown",
      "metadata": {
        "id": "f62607b7"
      },
      "source": [
        "This code again uses the `split()` method to split the new `texto` string into a list of words. Note that punctuation is still attached to the words."
      ]
    },
    {
      "cell_type": "code",
      "metadata": {
        "colab": {
          "base_uri": "https://localhost:8080/"
        },
        "id": "b0ef6a10",
        "outputId": "de0e64e8-976a-4cd9-ee06-55c734fccd2f"
      },
      "source": [
        "texto.split()"
      ],
      "execution_count": 64,
      "outputs": [
        {
          "output_type": "execute_result",
          "data": {
            "text/plain": [
              "['Olá,', 'tudo', 'bem?', 'Em', 'que', 'posso', 'ajudá-lo', 'hoje?']"
            ]
          },
          "metadata": {},
          "execution_count": 64
        }
      ]
    },
    {
      "cell_type": "markdown",
      "metadata": {
        "id": "d5bf8fe9"
      },
      "source": [
        "This code imports the `re` library, which provides regular expression matching operations. It's useful for finding patterns in strings."
      ]
    },
    {
      "cell_type": "code",
      "metadata": {
        "colab": {
          "base_uri": "https://localhost:8080/"
        },
        "id": "efe03422",
        "outputId": "d94e4cc0-1991-4906-f457-ad8d0415ebed"
      },
      "source": [
        "re.sub(r\"[,.!?]\", r\" \", texto).lower().split()"
      ],
      "execution_count": 65,
      "outputs": [
        {
          "output_type": "execute_result",
          "data": {
            "text/plain": [
              "['olá', 'tudo', 'bem', 'em', 'que', 'posso', 'ajudá-lo', 'hoje']"
            ]
          },
          "metadata": {},
          "execution_count": 65
        }
      ]
    },
    {
      "cell_type": "markdown",
      "metadata": {
        "id": "6d6b0de9"
      },
      "source": [
        "This cell redefines the variable text with a string containing a monetary value."
      ]
    },
    {
      "cell_type": "code",
      "metadata": {
        "id": "60c36c4c"
      },
      "source": [
        "texto = \"Eu paguei R$456,00 pelo setup. Ficou massa!\""
      ],
      "execution_count": 66,
      "outputs": []
    },
    {
      "cell_type": "markdown",
      "metadata": {
        "id": "977920aa"
      },
      "source": [
        "This cell defines a regular expression in the variable `regex` to find words or sequences that resemble monetary values (starting with \"R$\", followed by numbers, dots, or commas, and optionally letters) or any sequence of non-whitespace characters.\n"
      ]
    },
    {
      "cell_type": "code",
      "metadata": {
        "id": "8dc86468"
      },
      "source": [
        "regex = r\"R\\$?![\\d\\.\\,]+\\w+|\\S+\""
      ],
      "execution_count": 67,
      "outputs": []
    },
    {
      "cell_type": "markdown",
      "metadata": {
        "id": "e5961a9d"
      },
      "source": [
        "This code uses the `re.findall()` function with the regular expression `regex` to find all occurrences matching the pattern in the string `texto`. This extracts words and the monetary value as separate tokens.\n"
      ]
    },
    {
      "cell_type": "code",
      "metadata": {
        "colab": {
          "base_uri": "https://localhost:8080/"
        },
        "id": "5d29d3d9",
        "outputId": "b8df9a42-c4f5-4155-d06c-c6416b94eb7e"
      },
      "source": [
        "re.findall(regex, texto)"
      ],
      "execution_count": 68,
      "outputs": [
        {
          "output_type": "execute_result",
          "data": {
            "text/plain": [
              "['Eu', 'paguei', 'R$456,00', 'pelo', 'setup.', 'Ficou', 'massa!']"
            ]
          },
          "metadata": {},
          "execution_count": 68
        }
      ]
    },
    {
      "cell_type": "code",
      "source": [
        "import re"
      ],
      "metadata": {
        "id": "y_SpxiLkHyhK"
      },
      "execution_count": 69,
      "outputs": []
    },
    {
      "cell_type": "code",
      "execution_count": 70,
      "metadata": {
        "id": "Hg0WO2w_G6TL"
      },
      "outputs": [],
      "source": [
        "texto = \"No meio do caminho tinha uma pedra.\""
      ]
    },
    {
      "cell_type": "code",
      "source": [
        "texto.split()"
      ],
      "metadata": {
        "colab": {
          "base_uri": "https://localhost:8080/"
        },
        "id": "H-oPnTssHClr",
        "outputId": "59ce04b4-05bb-4d22-c710-e66ecd1b9473"
      },
      "execution_count": 71,
      "outputs": [
        {
          "output_type": "execute_result",
          "data": {
            "text/plain": [
              "['No', 'meio', 'do', 'caminho', 'tinha', 'uma', 'pedra.']"
            ]
          },
          "metadata": {},
          "execution_count": 71
        }
      ]
    },
    {
      "cell_type": "code",
      "source": [
        "texto = \"Olá, tudo bem? Em que posso ajudá-lo hoje?\""
      ],
      "metadata": {
        "id": "0cM0VpWPHUQM"
      },
      "execution_count": 72,
      "outputs": []
    },
    {
      "cell_type": "code",
      "source": [
        "texto.split()"
      ],
      "metadata": {
        "colab": {
          "base_uri": "https://localhost:8080/"
        },
        "id": "vamUkNC4Ho5A",
        "outputId": "d7f38296-ba99-490a-a276-bd5720e9d1ae"
      },
      "execution_count": 73,
      "outputs": [
        {
          "output_type": "execute_result",
          "data": {
            "text/plain": [
              "['Olá,', 'tudo', 'bem?', 'Em', 'que', 'posso', 'ajudá-lo', 'hoje?']"
            ]
          },
          "metadata": {},
          "execution_count": 73
        }
      ]
    },
    {
      "cell_type": "code",
      "source": [
        "re.sub(r\"[,.!?]\", r\" \", texto).lower().split()"
      ],
      "metadata": {
        "colab": {
          "base_uri": "https://localhost:8080/"
        },
        "id": "p3g8Hn7yHxAv",
        "outputId": "4fb60e54-6d2d-48c0-ea7c-28c93320ef13"
      },
      "execution_count": 74,
      "outputs": [
        {
          "output_type": "execute_result",
          "data": {
            "text/plain": [
              "['olá', 'tudo', 'bem', 'em', 'que', 'posso', 'ajudá-lo', 'hoje']"
            ]
          },
          "metadata": {},
          "execution_count": 74
        }
      ]
    },
    {
      "cell_type": "code",
      "source": [
        "texto = \"Eu paguei R$456,00 pelo setup. Ficou massa!\""
      ],
      "metadata": {
        "id": "irTncXZKIhCk"
      },
      "execution_count": 75,
      "outputs": []
    },
    {
      "cell_type": "code",
      "source": [
        "regex = r\"R\\$?![\\d\\.\\,]+\\w+|\\S+\""
      ],
      "metadata": {
        "id": "jqDwoVmMIXCM"
      },
      "execution_count": 76,
      "outputs": []
    },
    {
      "cell_type": "code",
      "source": [
        "re.findall(regex, texto)"
      ],
      "metadata": {
        "colab": {
          "base_uri": "https://localhost:8080/"
        },
        "id": "UedX6lX2JKNG",
        "outputId": "198f51dd-769b-4b1d-a86a-bfb712f782e2"
      },
      "execution_count": 77,
      "outputs": [
        {
          "output_type": "execute_result",
          "data": {
            "text/plain": [
              "['Eu', 'paguei', 'R$456,00', 'pelo', 'setup.', 'Ficou', 'massa!']"
            ]
          },
          "metadata": {},
          "execution_count": 77
        }
      ]
    },
    {
      "cell_type": "markdown",
      "source": [
        "## Tokenizer Using NLTK Rules\n"
      ],
      "metadata": {
        "id": "uaT9l8raRzTu"
      }
    },
    {
      "cell_type": "markdown",
      "metadata": {
        "id": "1716c793"
      },
      "source": [
        "This code imports the `nltk` library and downloads the `punkt_tab` package, which is required for tokenization.\n"
      ]
    },
    {
      "cell_type": "code",
      "metadata": {
        "colab": {
          "base_uri": "https://localhost:8080/"
        },
        "id": "9961192e",
        "outputId": "b38ef6f3-f046-4d1e-e8f1-a8877aa792e3"
      },
      "source": [
        "import nltk\n",
        "\n",
        "nltk.download('punkt_tab')"
      ],
      "execution_count": 78,
      "outputs": [
        {
          "output_type": "stream",
          "name": "stderr",
          "text": [
            "[nltk_data] Downloading package punkt_tab to /root/nltk_data...\n",
            "[nltk_data]   Package punkt_tab is already up-to-date!\n"
          ]
        },
        {
          "output_type": "execute_result",
          "data": {
            "text/plain": [
              "True"
            ]
          },
          "metadata": {},
          "execution_count": 78
        }
      ]
    },
    {
      "cell_type": "markdown",
      "metadata": {
        "id": "e7add7df"
      },
      "source": [
        "This code uses the `nltk.word_tokenize()` function to split the string `text` into tokens (words and punctuation), using NLTK’s tokenization rules for the English language.\n"
      ]
    },
    {
      "cell_type": "code",
      "metadata": {
        "colab": {
          "base_uri": "https://localhost:8080/"
        },
        "id": "cc759804",
        "outputId": "c96be108-4be8-4a7c-984a-06f7686db141"
      },
      "source": [
        "text = \"\"\"Hello everyone!!!\"\"\"\n",
        "\n",
        "nltk.word_tokenize(text, language='english')"
      ],
      "execution_count": 79,
      "outputs": [
        {
          "output_type": "execute_result",
          "data": {
            "text/plain": [
              "['Hello', 'everyone', '!', '!', '!']"
            ]
          },
          "metadata": {},
          "execution_count": 79
        }
      ]
    },
    {
      "cell_type": "markdown",
      "metadata": {
        "id": "8d346cc5"
      },
      "source": [
        "This code uses the `nltk.word_tokenize()` function to split the string `texto` into tokens (words and punctuation), using NLTK’s tokenization rules for the Portuguese language. Note how it handles the monetary value.\n"
      ]
    },
    {
      "cell_type": "code",
      "metadata": {
        "colab": {
          "base_uri": "https://localhost:8080/"
        },
        "id": "fbe20c88",
        "outputId": "e83b5ab5-1b6d-466f-b35a-aabcee626b9a"
      },
      "source": [
        "texto = \"Eu paguei R$456,00 pelo setup. Ficou massa!\"\n",
        "nltk.word_tokenize(texto, language='portuguese')"
      ],
      "execution_count": 80,
      "outputs": [
        {
          "output_type": "execute_result",
          "data": {
            "text/plain": [
              "['Eu',\n",
              " 'paguei',\n",
              " 'R',\n",
              " '$',\n",
              " '456,00',\n",
              " 'pelo',\n",
              " 'setup',\n",
              " '.',\n",
              " 'Ficou',\n",
              " 'massa',\n",
              " '!']"
            ]
          },
          "metadata": {},
          "execution_count": 80
        }
      ]
    },
    {
      "cell_type": "markdown",
      "metadata": {
        "id": "b6d6c1ac"
      },
      "source": [
        "This code demonstrates the tokenization of a longer text with multiple paragraphs and punctuation, using NLTK’s tokenization rules for the Portuguese language.\n"
      ]
    },
    {
      "cell_type": "code",
      "metadata": {
        "colab": {
          "base_uri": "https://localhost:8080/"
        },
        "id": "f09653aa",
        "outputId": "4882a7d1-493c-4a94-8cad-f7cea76cd833"
      },
      "source": [
        "texto = \"\"\"O meninio jogou bola ontem às 16:00.\n",
        "Comi um cachorro quente na rua ontem e custou R$5,00! Estava uma delícia\"\"\"\n",
        "\n",
        "nltk.word_tokenize(texto, language='portuguese')"
      ],
      "execution_count": 81,
      "outputs": [
        {
          "output_type": "execute_result",
          "data": {
            "text/plain": [
              "['O',\n",
              " 'meninio',\n",
              " 'jogou',\n",
              " 'bola',\n",
              " 'ontem',\n",
              " 'às',\n",
              " '16:00',\n",
              " '.',\n",
              " 'Comi',\n",
              " 'um',\n",
              " 'cachorro',\n",
              " 'quente',\n",
              " 'na',\n",
              " 'rua',\n",
              " 'ontem',\n",
              " 'e',\n",
              " 'custou',\n",
              " 'R',\n",
              " '$',\n",
              " '5,00',\n",
              " '!',\n",
              " 'Estava',\n",
              " 'uma',\n",
              " 'delícia']"
            ]
          },
          "metadata": {},
          "execution_count": 81
        }
      ]
    },
    {
      "cell_type": "code",
      "source": [
        "import nltk\n",
        "\n",
        "nltk.download('punkt_tab')"
      ],
      "metadata": {
        "colab": {
          "base_uri": "https://localhost:8080/"
        },
        "id": "uCN4upU5HFQz",
        "outputId": "e11c5d32-c165-4848-f592-b113f6264c4d"
      },
      "execution_count": 82,
      "outputs": [
        {
          "output_type": "stream",
          "name": "stderr",
          "text": [
            "[nltk_data] Downloading package punkt_tab to /root/nltk_data...\n",
            "[nltk_data]   Package punkt_tab is already up-to-date!\n"
          ]
        },
        {
          "output_type": "execute_result",
          "data": {
            "text/plain": [
              "True"
            ]
          },
          "metadata": {},
          "execution_count": 82
        }
      ]
    },
    {
      "cell_type": "code",
      "source": [
        "text = \"\"\"Hello everyone!!!\"\"\"\n",
        "\n",
        "nltk.word_tokenize(text, language='english')"
      ],
      "metadata": {
        "colab": {
          "base_uri": "https://localhost:8080/"
        },
        "id": "5ykIUCKRSGKn",
        "outputId": "7a84506b-bbf4-463a-b963-b70a301d9f65"
      },
      "execution_count": 83,
      "outputs": [
        {
          "output_type": "execute_result",
          "data": {
            "text/plain": [
              "['Hello', 'everyone', '!', '!', '!']"
            ]
          },
          "metadata": {},
          "execution_count": 83
        }
      ]
    },
    {
      "cell_type": "code",
      "source": [
        "texto = \"Eu paguei R$456,00 pelo setup. Ficou massa!\"\n",
        "nltk.word_tokenize(texto, language='portuguese')"
      ],
      "metadata": {
        "colab": {
          "base_uri": "https://localhost:8080/"
        },
        "id": "vKfly-JESpY4",
        "outputId": "c4356ef1-0f2c-49f3-8359-c085deb2d6f4"
      },
      "execution_count": 84,
      "outputs": [
        {
          "output_type": "execute_result",
          "data": {
            "text/plain": [
              "['Eu',\n",
              " 'paguei',\n",
              " 'R',\n",
              " '$',\n",
              " '456,00',\n",
              " 'pelo',\n",
              " 'setup',\n",
              " '.',\n",
              " 'Ficou',\n",
              " 'massa',\n",
              " '!']"
            ]
          },
          "metadata": {},
          "execution_count": 84
        }
      ]
    },
    {
      "cell_type": "code",
      "source": [
        "texto = \"\"\"O meninio jogou bola ontem às 16:00.\n",
        "Comi um cachorro quente na rua ontem e custou R$5,00! Estava uma delícia\"\"\"\n",
        "\n",
        "nltk.word_tokenize(texto, language='portuguese')"
      ],
      "metadata": {
        "colab": {
          "base_uri": "https://localhost:8080/"
        },
        "id": "pHmMZb5xS26y",
        "outputId": "05c885e6-9fbe-4d89-eaef-5170381c22f6"
      },
      "execution_count": 85,
      "outputs": [
        {
          "output_type": "execute_result",
          "data": {
            "text/plain": [
              "['O',\n",
              " 'meninio',\n",
              " 'jogou',\n",
              " 'bola',\n",
              " 'ontem',\n",
              " 'às',\n",
              " '16:00',\n",
              " '.',\n",
              " 'Comi',\n",
              " 'um',\n",
              " 'cachorro',\n",
              " 'quente',\n",
              " 'na',\n",
              " 'rua',\n",
              " 'ontem',\n",
              " 'e',\n",
              " 'custou',\n",
              " 'R',\n",
              " '$',\n",
              " '5,00',\n",
              " '!',\n",
              " 'Estava',\n",
              " 'uma',\n",
              " 'delícia']"
            ]
          },
          "metadata": {},
          "execution_count": 85
        }
      ]
    },
    {
      "cell_type": "markdown",
      "source": [
        "## Capitalization\n"
      ],
      "metadata": {
        "id": "AR0VBPSrTahQ"
      }
    },
    {
      "cell_type": "code",
      "source": [
        "versos = \"\"\"\n",
        "No meio do caminho tinha uma pedra\n",
        "Tinha uma pedra no meio do caminho\n",
        "\"\"\".upper()\n",
        "print(versos)"
      ],
      "metadata": {
        "colab": {
          "base_uri": "https://localhost:8080/"
        },
        "id": "dwicP8woTdoK",
        "outputId": "fa050d12-c658-4f3b-b8b2-eeba85177bb8"
      },
      "execution_count": 86,
      "outputs": [
        {
          "output_type": "stream",
          "name": "stdout",
          "text": [
            "\n",
            "NO MEIO DO CAMINHO TINHA UMA PEDRA\n",
            "TINHA UMA PEDRA NO MEIO DO CAMINHO\n",
            "\n"
          ]
        }
      ]
    },
    {
      "cell_type": "code",
      "source": [
        "nltk.word_tokenize(versos, language=\"portuguese\")"
      ],
      "metadata": {
        "colab": {
          "base_uri": "https://localhost:8080/"
        },
        "id": "DTsYgPNtTrX0",
        "outputId": "51f770af-dcf7-4f3f-c87a-5e49f1ea0aed"
      },
      "execution_count": 87,
      "outputs": [
        {
          "output_type": "execute_result",
          "data": {
            "text/plain": [
              "['NO',\n",
              " 'MEIO',\n",
              " 'DO',\n",
              " 'CAMINHO',\n",
              " 'TINHA',\n",
              " 'UMA',\n",
              " 'PEDRA',\n",
              " 'TINHA',\n",
              " 'UMA',\n",
              " 'PEDRA',\n",
              " 'NO',\n",
              " 'MEIO',\n",
              " 'DO',\n",
              " 'CAMINHO']"
            ]
          },
          "metadata": {},
          "execution_count": 87
        }
      ]
    },
    {
      "cell_type": "code",
      "source": [
        "texto = \"Estamos na aula de Projeto Integrado. Estamos estudando PLN no momento\"\n",
        "\n",
        "nltk.sent_tokenize(texto, language=\"portuguese\")"
      ],
      "metadata": {
        "colab": {
          "base_uri": "https://localhost:8080/"
        },
        "id": "Z-XeE97wTwhY",
        "outputId": "f3350bd9-45f9-4387-f12e-d4c4e3a9aa10"
      },
      "execution_count": 88,
      "outputs": [
        {
          "output_type": "execute_result",
          "data": {
            "text/plain": [
              "['Estamos na aula de Projeto Integrado.', 'Estamos estudando PLN no momento']"
            ]
          },
          "metadata": {},
          "execution_count": 88
        }
      ]
    },
    {
      "cell_type": "markdown",
      "source": [
        "## Lemmatization\n"
      ],
      "metadata": {
        "id": "ZGYhCGIpUXfZ"
      }
    },
    {
      "cell_type": "code",
      "source": [
        "!python -m spacy download pt_core_news_sm"
      ],
      "metadata": {
        "colab": {
          "base_uri": "https://localhost:8080/"
        },
        "id": "WpygKlQRUaVD",
        "outputId": "51483f15-1e91-4c0d-c93e-42c7c4bc0f26"
      },
      "execution_count": 89,
      "outputs": [
        {
          "output_type": "stream",
          "name": "stdout",
          "text": [
            "Collecting pt-core-news-sm==3.8.0\n",
            "  Downloading https://github.com/explosion/spacy-models/releases/download/pt_core_news_sm-3.8.0/pt_core_news_sm-3.8.0-py3-none-any.whl (13.0 MB)\n",
            "\u001b[2K     \u001b[90m━━━━━━━━━━━━━━━━━━━━━━━━━━━━━━━━━━━━━━━\u001b[0m \u001b[32m13.0/13.0 MB\u001b[0m \u001b[31m101.9 MB/s\u001b[0m eta \u001b[36m0:00:00\u001b[0m\n",
            "\u001b[?25h\u001b[38;5;2m✔ Download and installation successful\u001b[0m\n",
            "You can now load the package via spacy.load('pt_core_news_sm')\n",
            "\u001b[38;5;3m⚠ Restart to reload dependencies\u001b[0m\n",
            "If you are in a Jupyter or Colab notebook, you may need to restart Python in\n",
            "order to load all the package's dependencies. You can do this by selecting the\n",
            "'Restart kernel' or 'Restart runtime' option.\n"
          ]
        }
      ]
    },
    {
      "cell_type": "code",
      "source": [
        "import spacy\n",
        "\n",
        "nlp = spacy.load(\"pt_core_news_sm\")"
      ],
      "metadata": {
        "id": "CzsKweXwWxzT"
      },
      "execution_count": 90,
      "outputs": []
    },
    {
      "cell_type": "code",
      "source": [
        "texto = \"O passado é só uma história que contamos\"\n",
        "\n",
        "doc = nlp(texto)"
      ],
      "metadata": {
        "id": "XAD3GsZYXHBF"
      },
      "execution_count": 91,
      "outputs": []
    },
    {
      "cell_type": "code",
      "source": [
        "type(doc)"
      ],
      "metadata": {
        "colab": {
          "base_uri": "https://localhost:8080/"
        },
        "id": "BaYJ73YZXRpG",
        "outputId": "c818f576-95cc-4663-c51e-274c67620b51"
      },
      "execution_count": 92,
      "outputs": [
        {
          "output_type": "execute_result",
          "data": {
            "text/plain": [
              "spacy.tokens.doc.Doc"
            ]
          },
          "metadata": {},
          "execution_count": 92
        }
      ]
    },
    {
      "cell_type": "code",
      "source": [
        "for token in doc:\n",
        "  print(token.text, ' --> ', token.lemma_)"
      ],
      "metadata": {
        "colab": {
          "base_uri": "https://localhost:8080/"
        },
        "id": "fX0S3ia2Xap-",
        "outputId": "e5cda31a-c3ed-49fe-e47f-dad534e917a6"
      },
      "execution_count": 93,
      "outputs": [
        {
          "output_type": "stream",
          "name": "stdout",
          "text": [
            "O  -->  o\n",
            "passado  -->  passado\n",
            "é  -->  ser\n",
            "só  -->  só\n",
            "uma  -->  um\n",
            "história  -->  história\n",
            "que  -->  que\n",
            "contamos  -->  contar\n"
          ]
        }
      ]
    },
    {
      "cell_type": "code",
      "source": [
        "nlp(\"pelo\")[0].lemma_"
      ],
      "metadata": {
        "colab": {
          "base_uri": "https://localhost:8080/",
          "height": 35
        },
        "id": "QomQOICrYLXx",
        "outputId": "ce798380-39dd-4c5b-d698-fd70a4883753"
      },
      "execution_count": 94,
      "outputs": [
        {
          "output_type": "execute_result",
          "data": {
            "text/plain": [
              "'por o'"
            ],
            "application/vnd.google.colaboratory.intrinsic+json": {
              "type": "string"
            }
          },
          "metadata": {},
          "execution_count": 94
        }
      ]
    },
    {
      "cell_type": "code",
      "source": [
        "[x.lemma_ for x in nlp(\"pelo menos eu tô melhorando isso. Eu não penteei o pelo do cachorro. Vou estudar mais para a próxima prova...\")]"
      ],
      "metadata": {
        "colab": {
          "base_uri": "https://localhost:8080/"
        },
        "id": "LaWaMkbDYgcK",
        "outputId": "bdfaa00d-6c9f-4411-b2e4-fc9d6132cdca"
      },
      "execution_count": 95,
      "outputs": [
        {
          "output_type": "execute_result",
          "data": {
            "text/plain": [
              "['por o',\n",
              " 'menos',\n",
              " 'eu',\n",
              " 'tô',\n",
              " 'melhorar',\n",
              " 'isso',\n",
              " '.',\n",
              " 'eu',\n",
              " 'não',\n",
              " 'penteei',\n",
              " 'o',\n",
              " 'por o',\n",
              " 'de o',\n",
              " 'cachorro',\n",
              " '.',\n",
              " 'vou',\n",
              " 'estudar',\n",
              " 'mais',\n",
              " 'para',\n",
              " 'o',\n",
              " 'próximo',\n",
              " 'prova',\n",
              " '...']"
            ]
          },
          "metadata": {},
          "execution_count": 95
        }
      ]
    },
    {
      "cell_type": "markdown",
      "source": [
        "## Stemming\n"
      ],
      "metadata": {
        "id": "BxW9O_XOYFvB"
      }
    },
    {
      "cell_type": "code",
      "source": [
        "import nltk\n",
        "nltk.download('rslp')"
      ],
      "metadata": {
        "colab": {
          "base_uri": "https://localhost:8080/"
        },
        "id": "vRxqbd9fYH8p",
        "outputId": "fbd45950-c5eb-4090-d5a1-5e5ac101840a"
      },
      "execution_count": 96,
      "outputs": [
        {
          "output_type": "stream",
          "name": "stderr",
          "text": [
            "[nltk_data] Downloading package rslp to /root/nltk_data...\n",
            "[nltk_data]   Package rslp is already up-to-date!\n"
          ]
        },
        {
          "output_type": "execute_result",
          "data": {
            "text/plain": [
              "True"
            ]
          },
          "metadata": {},
          "execution_count": 96
        }
      ]
    },
    {
      "cell_type": "code",
      "source": [
        "versos = \"\"\"O passado é apenas uma história que contamos. E às vezes mentimos.\"\"\"\n",
        "stemmer = nltk.stem.RSLPStemmer()\n",
        "\n",
        "tokens = nltk.word_tokenize(versos, language=\"portuguese\")\n",
        "\n",
        "for token in tokens:\n",
        "  print(token, \" --> \", stemmer.stem(token))"
      ],
      "metadata": {
        "colab": {
          "base_uri": "https://localhost:8080/"
        },
        "id": "al5xYZj4Zn48",
        "outputId": "11d8cce4-a63a-427f-eae4-a81df054e5c2"
      },
      "execution_count": 97,
      "outputs": [
        {
          "output_type": "stream",
          "name": "stdout",
          "text": [
            "O  -->  o\n",
            "passado  -->  pass\n",
            "é  -->  é\n",
            "apenas  -->  apen\n",
            "uma  -->  uma\n",
            "história  -->  histór\n",
            "que  -->  que\n",
            "contamos  -->  cont\n",
            ".  -->  .\n",
            "E  -->  e\n",
            "às  -->  às\n",
            "vezes  -->  vez\n",
            "mentimos  -->  ment\n",
            ".  -->  .\n"
          ]
        }
      ]
    },
    {
      "cell_type": "code",
      "source": [
        "versos = \"\"\"\n",
        "No meio do caminho tinha uma pedra\n",
        "Tinha uma pedra no meio do caminho\n",
        "Tinha uma pedra\n",
        "No meio do caminho tinha uma pedra\n",
        "\"\"\"\n",
        "\n",
        "texto = versos.lower().split('\\n')\n",
        "\n",
        "texto_tok = []\n",
        "for verso in texto:\n",
        "  tokens = nltk.word_tokenize(versos, language=\"portuguese\")\n",
        "  texto_tok.append(tokens)\n",
        "\n",
        "texto_tok"
      ],
      "metadata": {
        "colab": {
          "base_uri": "https://localhost:8080/"
        },
        "id": "vkwwWxk3bMg1",
        "outputId": "87c161bf-cfe2-48b2-d782-643993d70ff8"
      },
      "execution_count": 98,
      "outputs": [
        {
          "output_type": "execute_result",
          "data": {
            "text/plain": [
              "[['No',\n",
              "  'meio',\n",
              "  'do',\n",
              "  'caminho',\n",
              "  'tinha',\n",
              "  'uma',\n",
              "  'pedra',\n",
              "  'Tinha',\n",
              "  'uma',\n",
              "  'pedra',\n",
              "  'no',\n",
              "  'meio',\n",
              "  'do',\n",
              "  'caminho',\n",
              "  'Tinha',\n",
              "  'uma',\n",
              "  'pedra',\n",
              "  'No',\n",
              "  'meio',\n",
              "  'do',\n",
              "  'caminho',\n",
              "  'tinha',\n",
              "  'uma',\n",
              "  'pedra'],\n",
              " ['No',\n",
              "  'meio',\n",
              "  'do',\n",
              "  'caminho',\n",
              "  'tinha',\n",
              "  'uma',\n",
              "  'pedra',\n",
              "  'Tinha',\n",
              "  'uma',\n",
              "  'pedra',\n",
              "  'no',\n",
              "  'meio',\n",
              "  'do',\n",
              "  'caminho',\n",
              "  'Tinha',\n",
              "  'uma',\n",
              "  'pedra',\n",
              "  'No',\n",
              "  'meio',\n",
              "  'do',\n",
              "  'caminho',\n",
              "  'tinha',\n",
              "  'uma',\n",
              "  'pedra'],\n",
              " ['No',\n",
              "  'meio',\n",
              "  'do',\n",
              "  'caminho',\n",
              "  'tinha',\n",
              "  'uma',\n",
              "  'pedra',\n",
              "  'Tinha',\n",
              "  'uma',\n",
              "  'pedra',\n",
              "  'no',\n",
              "  'meio',\n",
              "  'do',\n",
              "  'caminho',\n",
              "  'Tinha',\n",
              "  'uma',\n",
              "  'pedra',\n",
              "  'No',\n",
              "  'meio',\n",
              "  'do',\n",
              "  'caminho',\n",
              "  'tinha',\n",
              "  'uma',\n",
              "  'pedra'],\n",
              " ['No',\n",
              "  'meio',\n",
              "  'do',\n",
              "  'caminho',\n",
              "  'tinha',\n",
              "  'uma',\n",
              "  'pedra',\n",
              "  'Tinha',\n",
              "  'uma',\n",
              "  'pedra',\n",
              "  'no',\n",
              "  'meio',\n",
              "  'do',\n",
              "  'caminho',\n",
              "  'Tinha',\n",
              "  'uma',\n",
              "  'pedra',\n",
              "  'No',\n",
              "  'meio',\n",
              "  'do',\n",
              "  'caminho',\n",
              "  'tinha',\n",
              "  'uma',\n",
              "  'pedra'],\n",
              " ['No',\n",
              "  'meio',\n",
              "  'do',\n",
              "  'caminho',\n",
              "  'tinha',\n",
              "  'uma',\n",
              "  'pedra',\n",
              "  'Tinha',\n",
              "  'uma',\n",
              "  'pedra',\n",
              "  'no',\n",
              "  'meio',\n",
              "  'do',\n",
              "  'caminho',\n",
              "  'Tinha',\n",
              "  'uma',\n",
              "  'pedra',\n",
              "  'No',\n",
              "  'meio',\n",
              "  'do',\n",
              "  'caminho',\n",
              "  'tinha',\n",
              "  'uma',\n",
              "  'pedra'],\n",
              " ['No',\n",
              "  'meio',\n",
              "  'do',\n",
              "  'caminho',\n",
              "  'tinha',\n",
              "  'uma',\n",
              "  'pedra',\n",
              "  'Tinha',\n",
              "  'uma',\n",
              "  'pedra',\n",
              "  'no',\n",
              "  'meio',\n",
              "  'do',\n",
              "  'caminho',\n",
              "  'Tinha',\n",
              "  'uma',\n",
              "  'pedra',\n",
              "  'No',\n",
              "  'meio',\n",
              "  'do',\n",
              "  'caminho',\n",
              "  'tinha',\n",
              "  'uma',\n",
              "  'pedra']]"
            ]
          },
          "metadata": {},
          "execution_count": 98
        }
      ]
    },
    {
      "cell_type": "markdown",
      "source": [
        "## Bag of Words"
      ],
      "metadata": {
        "id": "mPtUP0wgggv0"
      }
    },
    {
      "cell_type": "code",
      "source": [
        "from sklearn.feature_extraction.text import CountVectorizer\n",
        "import pandas as pd"
      ],
      "metadata": {
        "id": "KG5NNaPBgkFk"
      },
      "execution_count": 99,
      "outputs": []
    },
    {
      "cell_type": "code",
      "source": [
        "corpus = [\n",
        "'No meio do caminho tinha uma pedra',\n",
        "'Tinha uma pedra no meio do caminho',\n",
        "'Tinha uma pedra',\n",
        "'No meio do caminho tinha uma pedra'\n",
        "]"
      ],
      "metadata": {
        "id": "HApbNDuxgc2M"
      },
      "execution_count": 100,
      "outputs": []
    },
    {
      "cell_type": "code",
      "source": [
        "vectorizer = CountVectorizer()\n",
        "\n",
        "vetores = vectorizer.fit_transform(corpus)\n",
        "vocab = vectorizer.get_feature_names_out()\n",
        "\n",
        "pd.DataFrame(vetores.toarray(), columns=vocab)"
      ],
      "metadata": {
        "colab": {
          "base_uri": "https://localhost:8080/",
          "height": 174
        },
        "id": "2hdo-iIkgx8s",
        "outputId": "6e816199-b7df-413b-ae35-7bb9af11dd73"
      },
      "execution_count": 101,
      "outputs": [
        {
          "output_type": "execute_result",
          "data": {
            "text/plain": [
              "   caminho  do  meio  no  pedra  tinha  uma\n",
              "0        1   1     1   1      1      1    1\n",
              "1        1   1     1   1      1      1    1\n",
              "2        0   0     0   0      1      1    1\n",
              "3        1   1     1   1      1      1    1"
            ],
            "text/html": [
              "\n",
              "  <div id=\"df-89f7cf2c-f1eb-4c04-bdb8-2346dd4d2aec\" class=\"colab-df-container\">\n",
              "    <div>\n",
              "<style scoped>\n",
              "    .dataframe tbody tr th:only-of-type {\n",
              "        vertical-align: middle;\n",
              "    }\n",
              "\n",
              "    .dataframe tbody tr th {\n",
              "        vertical-align: top;\n",
              "    }\n",
              "\n",
              "    .dataframe thead th {\n",
              "        text-align: right;\n",
              "    }\n",
              "</style>\n",
              "<table border=\"1\" class=\"dataframe\">\n",
              "  <thead>\n",
              "    <tr style=\"text-align: right;\">\n",
              "      <th></th>\n",
              "      <th>caminho</th>\n",
              "      <th>do</th>\n",
              "      <th>meio</th>\n",
              "      <th>no</th>\n",
              "      <th>pedra</th>\n",
              "      <th>tinha</th>\n",
              "      <th>uma</th>\n",
              "    </tr>\n",
              "  </thead>\n",
              "  <tbody>\n",
              "    <tr>\n",
              "      <th>0</th>\n",
              "      <td>1</td>\n",
              "      <td>1</td>\n",
              "      <td>1</td>\n",
              "      <td>1</td>\n",
              "      <td>1</td>\n",
              "      <td>1</td>\n",
              "      <td>1</td>\n",
              "    </tr>\n",
              "    <tr>\n",
              "      <th>1</th>\n",
              "      <td>1</td>\n",
              "      <td>1</td>\n",
              "      <td>1</td>\n",
              "      <td>1</td>\n",
              "      <td>1</td>\n",
              "      <td>1</td>\n",
              "      <td>1</td>\n",
              "    </tr>\n",
              "    <tr>\n",
              "      <th>2</th>\n",
              "      <td>0</td>\n",
              "      <td>0</td>\n",
              "      <td>0</td>\n",
              "      <td>0</td>\n",
              "      <td>1</td>\n",
              "      <td>1</td>\n",
              "      <td>1</td>\n",
              "    </tr>\n",
              "    <tr>\n",
              "      <th>3</th>\n",
              "      <td>1</td>\n",
              "      <td>1</td>\n",
              "      <td>1</td>\n",
              "      <td>1</td>\n",
              "      <td>1</td>\n",
              "      <td>1</td>\n",
              "      <td>1</td>\n",
              "    </tr>\n",
              "  </tbody>\n",
              "</table>\n",
              "</div>\n",
              "    <div class=\"colab-df-buttons\">\n",
              "\n",
              "  <div class=\"colab-df-container\">\n",
              "    <button class=\"colab-df-convert\" onclick=\"convertToInteractive('df-89f7cf2c-f1eb-4c04-bdb8-2346dd4d2aec')\"\n",
              "            title=\"Convert this dataframe to an interactive table.\"\n",
              "            style=\"display:none;\">\n",
              "\n",
              "  <svg xmlns=\"http://www.w3.org/2000/svg\" height=\"24px\" viewBox=\"0 -960 960 960\">\n",
              "    <path d=\"M120-120v-720h720v720H120Zm60-500h600v-160H180v160Zm220 220h160v-160H400v160Zm0 220h160v-160H400v160ZM180-400h160v-160H180v160Zm440 0h160v-160H620v160ZM180-180h160v-160H180v160Zm440 0h160v-160H620v160Z\"/>\n",
              "  </svg>\n",
              "    </button>\n",
              "\n",
              "  <style>\n",
              "    .colab-df-container {\n",
              "      display:flex;\n",
              "      gap: 12px;\n",
              "    }\n",
              "\n",
              "    .colab-df-convert {\n",
              "      background-color: #E8F0FE;\n",
              "      border: none;\n",
              "      border-radius: 50%;\n",
              "      cursor: pointer;\n",
              "      display: none;\n",
              "      fill: #1967D2;\n",
              "      height: 32px;\n",
              "      padding: 0 0 0 0;\n",
              "      width: 32px;\n",
              "    }\n",
              "\n",
              "    .colab-df-convert:hover {\n",
              "      background-color: #E2EBFA;\n",
              "      box-shadow: 0px 1px 2px rgba(60, 64, 67, 0.3), 0px 1px 3px 1px rgba(60, 64, 67, 0.15);\n",
              "      fill: #174EA6;\n",
              "    }\n",
              "\n",
              "    .colab-df-buttons div {\n",
              "      margin-bottom: 4px;\n",
              "    }\n",
              "\n",
              "    [theme=dark] .colab-df-convert {\n",
              "      background-color: #3B4455;\n",
              "      fill: #D2E3FC;\n",
              "    }\n",
              "\n",
              "    [theme=dark] .colab-df-convert:hover {\n",
              "      background-color: #434B5C;\n",
              "      box-shadow: 0px 1px 3px 1px rgba(0, 0, 0, 0.15);\n",
              "      filter: drop-shadow(0px 1px 2px rgba(0, 0, 0, 0.3));\n",
              "      fill: #FFFFFF;\n",
              "    }\n",
              "  </style>\n",
              "\n",
              "    <script>\n",
              "      const buttonEl =\n",
              "        document.querySelector('#df-89f7cf2c-f1eb-4c04-bdb8-2346dd4d2aec button.colab-df-convert');\n",
              "      buttonEl.style.display =\n",
              "        google.colab.kernel.accessAllowed ? 'block' : 'none';\n",
              "\n",
              "      async function convertToInteractive(key) {\n",
              "        const element = document.querySelector('#df-89f7cf2c-f1eb-4c04-bdb8-2346dd4d2aec');\n",
              "        const dataTable =\n",
              "          await google.colab.kernel.invokeFunction('convertToInteractive',\n",
              "                                                    [key], {});\n",
              "        if (!dataTable) return;\n",
              "\n",
              "        const docLinkHtml = 'Like what you see? Visit the ' +\n",
              "          '<a target=\"_blank\" href=https://colab.research.google.com/notebooks/data_table.ipynb>data table notebook</a>'\n",
              "          + ' to learn more about interactive tables.';\n",
              "        element.innerHTML = '';\n",
              "        dataTable['output_type'] = 'display_data';\n",
              "        await google.colab.output.renderOutput(dataTable, element);\n",
              "        const docLink = document.createElement('div');\n",
              "        docLink.innerHTML = docLinkHtml;\n",
              "        element.appendChild(docLink);\n",
              "      }\n",
              "    </script>\n",
              "  </div>\n",
              "\n",
              "\n",
              "    <div id=\"df-552d1c6c-195d-403b-9990-16ab6c11e2ac\">\n",
              "      <button class=\"colab-df-quickchart\" onclick=\"quickchart('df-552d1c6c-195d-403b-9990-16ab6c11e2ac')\"\n",
              "                title=\"Suggest charts\"\n",
              "                style=\"display:none;\">\n",
              "\n",
              "<svg xmlns=\"http://www.w3.org/2000/svg\" height=\"24px\"viewBox=\"0 0 24 24\"\n",
              "     width=\"24px\">\n",
              "    <g>\n",
              "        <path d=\"M19 3H5c-1.1 0-2 .9-2 2v14c0 1.1.9 2 2 2h14c1.1 0 2-.9 2-2V5c0-1.1-.9-2-2-2zM9 17H7v-7h2v7zm4 0h-2V7h2v10zm4 0h-2v-4h2v4z\"/>\n",
              "    </g>\n",
              "</svg>\n",
              "      </button>\n",
              "\n",
              "<style>\n",
              "  .colab-df-quickchart {\n",
              "      --bg-color: #E8F0FE;\n",
              "      --fill-color: #1967D2;\n",
              "      --hover-bg-color: #E2EBFA;\n",
              "      --hover-fill-color: #174EA6;\n",
              "      --disabled-fill-color: #AAA;\n",
              "      --disabled-bg-color: #DDD;\n",
              "  }\n",
              "\n",
              "  [theme=dark] .colab-df-quickchart {\n",
              "      --bg-color: #3B4455;\n",
              "      --fill-color: #D2E3FC;\n",
              "      --hover-bg-color: #434B5C;\n",
              "      --hover-fill-color: #FFFFFF;\n",
              "      --disabled-bg-color: #3B4455;\n",
              "      --disabled-fill-color: #666;\n",
              "  }\n",
              "\n",
              "  .colab-df-quickchart {\n",
              "    background-color: var(--bg-color);\n",
              "    border: none;\n",
              "    border-radius: 50%;\n",
              "    cursor: pointer;\n",
              "    display: none;\n",
              "    fill: var(--fill-color);\n",
              "    height: 32px;\n",
              "    padding: 0;\n",
              "    width: 32px;\n",
              "  }\n",
              "\n",
              "  .colab-df-quickchart:hover {\n",
              "    background-color: var(--hover-bg-color);\n",
              "    box-shadow: 0 1px 2px rgba(60, 64, 67, 0.3), 0 1px 3px 1px rgba(60, 64, 67, 0.15);\n",
              "    fill: var(--button-hover-fill-color);\n",
              "  }\n",
              "\n",
              "  .colab-df-quickchart-complete:disabled,\n",
              "  .colab-df-quickchart-complete:disabled:hover {\n",
              "    background-color: var(--disabled-bg-color);\n",
              "    fill: var(--disabled-fill-color);\n",
              "    box-shadow: none;\n",
              "  }\n",
              "\n",
              "  .colab-df-spinner {\n",
              "    border: 2px solid var(--fill-color);\n",
              "    border-color: transparent;\n",
              "    border-bottom-color: var(--fill-color);\n",
              "    animation:\n",
              "      spin 1s steps(1) infinite;\n",
              "  }\n",
              "\n",
              "  @keyframes spin {\n",
              "    0% {\n",
              "      border-color: transparent;\n",
              "      border-bottom-color: var(--fill-color);\n",
              "      border-left-color: var(--fill-color);\n",
              "    }\n",
              "    20% {\n",
              "      border-color: transparent;\n",
              "      border-left-color: var(--fill-color);\n",
              "      border-top-color: var(--fill-color);\n",
              "    }\n",
              "    30% {\n",
              "      border-color: transparent;\n",
              "      border-left-color: var(--fill-color);\n",
              "      border-top-color: var(--fill-color);\n",
              "      border-right-color: var(--fill-color);\n",
              "    }\n",
              "    40% {\n",
              "      border-color: transparent;\n",
              "      border-right-color: var(--fill-color);\n",
              "      border-top-color: var(--fill-color);\n",
              "    }\n",
              "    60% {\n",
              "      border-color: transparent;\n",
              "      border-right-color: var(--fill-color);\n",
              "    }\n",
              "    80% {\n",
              "      border-color: transparent;\n",
              "      border-right-color: var(--fill-color);\n",
              "      border-bottom-color: var(--fill-color);\n",
              "    }\n",
              "    90% {\n",
              "      border-color: transparent;\n",
              "      border-bottom-color: var(--fill-color);\n",
              "    }\n",
              "  }\n",
              "</style>\n",
              "\n",
              "      <script>\n",
              "        async function quickchart(key) {\n",
              "          const quickchartButtonEl =\n",
              "            document.querySelector('#' + key + ' button');\n",
              "          quickchartButtonEl.disabled = true;  // To prevent multiple clicks.\n",
              "          quickchartButtonEl.classList.add('colab-df-spinner');\n",
              "          try {\n",
              "            const charts = await google.colab.kernel.invokeFunction(\n",
              "                'suggestCharts', [key], {});\n",
              "          } catch (error) {\n",
              "            console.error('Error during call to suggestCharts:', error);\n",
              "          }\n",
              "          quickchartButtonEl.classList.remove('colab-df-spinner');\n",
              "          quickchartButtonEl.classList.add('colab-df-quickchart-complete');\n",
              "        }\n",
              "        (() => {\n",
              "          let quickchartButtonEl =\n",
              "            document.querySelector('#df-552d1c6c-195d-403b-9990-16ab6c11e2ac button');\n",
              "          quickchartButtonEl.style.display =\n",
              "            google.colab.kernel.accessAllowed ? 'block' : 'none';\n",
              "        })();\n",
              "      </script>\n",
              "    </div>\n",
              "\n",
              "    </div>\n",
              "  </div>\n"
            ],
            "application/vnd.google.colaboratory.intrinsic+json": {
              "type": "dataframe",
              "summary": "{\n  \"name\": \"pd\",\n  \"rows\": 4,\n  \"fields\": [\n    {\n      \"column\": \"caminho\",\n      \"properties\": {\n        \"dtype\": \"number\",\n        \"std\": 0,\n        \"min\": 0,\n        \"max\": 1,\n        \"num_unique_values\": 2,\n        \"samples\": [\n          0,\n          1\n        ],\n        \"semantic_type\": \"\",\n        \"description\": \"\"\n      }\n    },\n    {\n      \"column\": \"do\",\n      \"properties\": {\n        \"dtype\": \"number\",\n        \"std\": 0,\n        \"min\": 0,\n        \"max\": 1,\n        \"num_unique_values\": 2,\n        \"samples\": [\n          0,\n          1\n        ],\n        \"semantic_type\": \"\",\n        \"description\": \"\"\n      }\n    },\n    {\n      \"column\": \"meio\",\n      \"properties\": {\n        \"dtype\": \"number\",\n        \"std\": 0,\n        \"min\": 0,\n        \"max\": 1,\n        \"num_unique_values\": 2,\n        \"samples\": [\n          0,\n          1\n        ],\n        \"semantic_type\": \"\",\n        \"description\": \"\"\n      }\n    },\n    {\n      \"column\": \"no\",\n      \"properties\": {\n        \"dtype\": \"number\",\n        \"std\": 0,\n        \"min\": 0,\n        \"max\": 1,\n        \"num_unique_values\": 2,\n        \"samples\": [\n          0,\n          1\n        ],\n        \"semantic_type\": \"\",\n        \"description\": \"\"\n      }\n    },\n    {\n      \"column\": \"pedra\",\n      \"properties\": {\n        \"dtype\": \"number\",\n        \"std\": 0,\n        \"min\": 1,\n        \"max\": 1,\n        \"num_unique_values\": 1,\n        \"samples\": [\n          1\n        ],\n        \"semantic_type\": \"\",\n        \"description\": \"\"\n      }\n    },\n    {\n      \"column\": \"tinha\",\n      \"properties\": {\n        \"dtype\": \"number\",\n        \"std\": 0,\n        \"min\": 1,\n        \"max\": 1,\n        \"num_unique_values\": 1,\n        \"samples\": [\n          1\n        ],\n        \"semantic_type\": \"\",\n        \"description\": \"\"\n      }\n    },\n    {\n      \"column\": \"uma\",\n      \"properties\": {\n        \"dtype\": \"number\",\n        \"std\": 0,\n        \"min\": 1,\n        \"max\": 1,\n        \"num_unique_values\": 1,\n        \"samples\": [\n          1\n        ],\n        \"semantic_type\": \"\",\n        \"description\": \"\"\n      }\n    }\n  ]\n}"
            }
          },
          "metadata": {},
          "execution_count": 101
        }
      ]
    },
    {
      "cell_type": "code",
      "source": [
        "import nltk\n",
        "nltk.download('stopwords')\n",
        "stopwords = nltk.corpus.stopwords.words('portuguese')"
      ],
      "metadata": {
        "colab": {
          "base_uri": "https://localhost:8080/"
        },
        "id": "vYFwtgIDjCNO",
        "outputId": "97c9237c-9d61-4b5a-ac3d-4e1740c51c44"
      },
      "execution_count": 102,
      "outputs": [
        {
          "output_type": "stream",
          "name": "stderr",
          "text": [
            "[nltk_data] Downloading package stopwords to /root/nltk_data...\n",
            "[nltk_data]   Package stopwords is already up-to-date!\n"
          ]
        }
      ]
    },
    {
      "cell_type": "code",
      "source": [
        "vectorizer = CountVectorizer(stop_words=stopwords)\n",
        "\n",
        "vetores = vectorizer.fit_transform(corpus)\n",
        "vocab = vectorizer.get_feature_names_out()\n",
        "\n",
        "pd.DataFrame(vetores.toarray(), columns=vocab)"
      ],
      "metadata": {
        "colab": {
          "base_uri": "https://localhost:8080/",
          "height": 174
        },
        "id": "uQky7H1niXXk",
        "outputId": "56f21926-0dec-4f20-c289-3b37302d7810"
      },
      "execution_count": 103,
      "outputs": [
        {
          "output_type": "execute_result",
          "data": {
            "text/plain": [
              "   caminho  meio  pedra\n",
              "0        1     1      1\n",
              "1        1     1      1\n",
              "2        0     0      1\n",
              "3        1     1      1"
            ],
            "text/html": [
              "\n",
              "  <div id=\"df-2c00291f-5c73-459b-a76e-e152dca56f25\" class=\"colab-df-container\">\n",
              "    <div>\n",
              "<style scoped>\n",
              "    .dataframe tbody tr th:only-of-type {\n",
              "        vertical-align: middle;\n",
              "    }\n",
              "\n",
              "    .dataframe tbody tr th {\n",
              "        vertical-align: top;\n",
              "    }\n",
              "\n",
              "    .dataframe thead th {\n",
              "        text-align: right;\n",
              "    }\n",
              "</style>\n",
              "<table border=\"1\" class=\"dataframe\">\n",
              "  <thead>\n",
              "    <tr style=\"text-align: right;\">\n",
              "      <th></th>\n",
              "      <th>caminho</th>\n",
              "      <th>meio</th>\n",
              "      <th>pedra</th>\n",
              "    </tr>\n",
              "  </thead>\n",
              "  <tbody>\n",
              "    <tr>\n",
              "      <th>0</th>\n",
              "      <td>1</td>\n",
              "      <td>1</td>\n",
              "      <td>1</td>\n",
              "    </tr>\n",
              "    <tr>\n",
              "      <th>1</th>\n",
              "      <td>1</td>\n",
              "      <td>1</td>\n",
              "      <td>1</td>\n",
              "    </tr>\n",
              "    <tr>\n",
              "      <th>2</th>\n",
              "      <td>0</td>\n",
              "      <td>0</td>\n",
              "      <td>1</td>\n",
              "    </tr>\n",
              "    <tr>\n",
              "      <th>3</th>\n",
              "      <td>1</td>\n",
              "      <td>1</td>\n",
              "      <td>1</td>\n",
              "    </tr>\n",
              "  </tbody>\n",
              "</table>\n",
              "</div>\n",
              "    <div class=\"colab-df-buttons\">\n",
              "\n",
              "  <div class=\"colab-df-container\">\n",
              "    <button class=\"colab-df-convert\" onclick=\"convertToInteractive('df-2c00291f-5c73-459b-a76e-e152dca56f25')\"\n",
              "            title=\"Convert this dataframe to an interactive table.\"\n",
              "            style=\"display:none;\">\n",
              "\n",
              "  <svg xmlns=\"http://www.w3.org/2000/svg\" height=\"24px\" viewBox=\"0 -960 960 960\">\n",
              "    <path d=\"M120-120v-720h720v720H120Zm60-500h600v-160H180v160Zm220 220h160v-160H400v160Zm0 220h160v-160H400v160ZM180-400h160v-160H180v160Zm440 0h160v-160H620v160ZM180-180h160v-160H180v160Zm440 0h160v-160H620v160Z\"/>\n",
              "  </svg>\n",
              "    </button>\n",
              "\n",
              "  <style>\n",
              "    .colab-df-container {\n",
              "      display:flex;\n",
              "      gap: 12px;\n",
              "    }\n",
              "\n",
              "    .colab-df-convert {\n",
              "      background-color: #E8F0FE;\n",
              "      border: none;\n",
              "      border-radius: 50%;\n",
              "      cursor: pointer;\n",
              "      display: none;\n",
              "      fill: #1967D2;\n",
              "      height: 32px;\n",
              "      padding: 0 0 0 0;\n",
              "      width: 32px;\n",
              "    }\n",
              "\n",
              "    .colab-df-convert:hover {\n",
              "      background-color: #E2EBFA;\n",
              "      box-shadow: 0px 1px 2px rgba(60, 64, 67, 0.3), 0px 1px 3px 1px rgba(60, 64, 67, 0.15);\n",
              "      fill: #174EA6;\n",
              "    }\n",
              "\n",
              "    .colab-df-buttons div {\n",
              "      margin-bottom: 4px;\n",
              "    }\n",
              "\n",
              "    [theme=dark] .colab-df-convert {\n",
              "      background-color: #3B4455;\n",
              "      fill: #D2E3FC;\n",
              "    }\n",
              "\n",
              "    [theme=dark] .colab-df-convert:hover {\n",
              "      background-color: #434B5C;\n",
              "      box-shadow: 0px 1px 3px 1px rgba(0, 0, 0, 0.15);\n",
              "      filter: drop-shadow(0px 1px 2px rgba(0, 0, 0, 0.3));\n",
              "      fill: #FFFFFF;\n",
              "    }\n",
              "  </style>\n",
              "\n",
              "    <script>\n",
              "      const buttonEl =\n",
              "        document.querySelector('#df-2c00291f-5c73-459b-a76e-e152dca56f25 button.colab-df-convert');\n",
              "      buttonEl.style.display =\n",
              "        google.colab.kernel.accessAllowed ? 'block' : 'none';\n",
              "\n",
              "      async function convertToInteractive(key) {\n",
              "        const element = document.querySelector('#df-2c00291f-5c73-459b-a76e-e152dca56f25');\n",
              "        const dataTable =\n",
              "          await google.colab.kernel.invokeFunction('convertToInteractive',\n",
              "                                                    [key], {});\n",
              "        if (!dataTable) return;\n",
              "\n",
              "        const docLinkHtml = 'Like what you see? Visit the ' +\n",
              "          '<a target=\"_blank\" href=https://colab.research.google.com/notebooks/data_table.ipynb>data table notebook</a>'\n",
              "          + ' to learn more about interactive tables.';\n",
              "        element.innerHTML = '';\n",
              "        dataTable['output_type'] = 'display_data';\n",
              "        await google.colab.output.renderOutput(dataTable, element);\n",
              "        const docLink = document.createElement('div');\n",
              "        docLink.innerHTML = docLinkHtml;\n",
              "        element.appendChild(docLink);\n",
              "      }\n",
              "    </script>\n",
              "  </div>\n",
              "\n",
              "\n",
              "    <div id=\"df-9cbc3485-6d3a-49ee-a573-38f54e49f74b\">\n",
              "      <button class=\"colab-df-quickchart\" onclick=\"quickchart('df-9cbc3485-6d3a-49ee-a573-38f54e49f74b')\"\n",
              "                title=\"Suggest charts\"\n",
              "                style=\"display:none;\">\n",
              "\n",
              "<svg xmlns=\"http://www.w3.org/2000/svg\" height=\"24px\"viewBox=\"0 0 24 24\"\n",
              "     width=\"24px\">\n",
              "    <g>\n",
              "        <path d=\"M19 3H5c-1.1 0-2 .9-2 2v14c0 1.1.9 2 2 2h14c1.1 0 2-.9 2-2V5c0-1.1-.9-2-2-2zM9 17H7v-7h2v7zm4 0h-2V7h2v10zm4 0h-2v-4h2v4z\"/>\n",
              "    </g>\n",
              "</svg>\n",
              "      </button>\n",
              "\n",
              "<style>\n",
              "  .colab-df-quickchart {\n",
              "      --bg-color: #E8F0FE;\n",
              "      --fill-color: #1967D2;\n",
              "      --hover-bg-color: #E2EBFA;\n",
              "      --hover-fill-color: #174EA6;\n",
              "      --disabled-fill-color: #AAA;\n",
              "      --disabled-bg-color: #DDD;\n",
              "  }\n",
              "\n",
              "  [theme=dark] .colab-df-quickchart {\n",
              "      --bg-color: #3B4455;\n",
              "      --fill-color: #D2E3FC;\n",
              "      --hover-bg-color: #434B5C;\n",
              "      --hover-fill-color: #FFFFFF;\n",
              "      --disabled-bg-color: #3B4455;\n",
              "      --disabled-fill-color: #666;\n",
              "  }\n",
              "\n",
              "  .colab-df-quickchart {\n",
              "    background-color: var(--bg-color);\n",
              "    border: none;\n",
              "    border-radius: 50%;\n",
              "    cursor: pointer;\n",
              "    display: none;\n",
              "    fill: var(--fill-color);\n",
              "    height: 32px;\n",
              "    padding: 0;\n",
              "    width: 32px;\n",
              "  }\n",
              "\n",
              "  .colab-df-quickchart:hover {\n",
              "    background-color: var(--hover-bg-color);\n",
              "    box-shadow: 0 1px 2px rgba(60, 64, 67, 0.3), 0 1px 3px 1px rgba(60, 64, 67, 0.15);\n",
              "    fill: var(--button-hover-fill-color);\n",
              "  }\n",
              "\n",
              "  .colab-df-quickchart-complete:disabled,\n",
              "  .colab-df-quickchart-complete:disabled:hover {\n",
              "    background-color: var(--disabled-bg-color);\n",
              "    fill: var(--disabled-fill-color);\n",
              "    box-shadow: none;\n",
              "  }\n",
              "\n",
              "  .colab-df-spinner {\n",
              "    border: 2px solid var(--fill-color);\n",
              "    border-color: transparent;\n",
              "    border-bottom-color: var(--fill-color);\n",
              "    animation:\n",
              "      spin 1s steps(1) infinite;\n",
              "  }\n",
              "\n",
              "  @keyframes spin {\n",
              "    0% {\n",
              "      border-color: transparent;\n",
              "      border-bottom-color: var(--fill-color);\n",
              "      border-left-color: var(--fill-color);\n",
              "    }\n",
              "    20% {\n",
              "      border-color: transparent;\n",
              "      border-left-color: var(--fill-color);\n",
              "      border-top-color: var(--fill-color);\n",
              "    }\n",
              "    30% {\n",
              "      border-color: transparent;\n",
              "      border-left-color: var(--fill-color);\n",
              "      border-top-color: var(--fill-color);\n",
              "      border-right-color: var(--fill-color);\n",
              "    }\n",
              "    40% {\n",
              "      border-color: transparent;\n",
              "      border-right-color: var(--fill-color);\n",
              "      border-top-color: var(--fill-color);\n",
              "    }\n",
              "    60% {\n",
              "      border-color: transparent;\n",
              "      border-right-color: var(--fill-color);\n",
              "    }\n",
              "    80% {\n",
              "      border-color: transparent;\n",
              "      border-right-color: var(--fill-color);\n",
              "      border-bottom-color: var(--fill-color);\n",
              "    }\n",
              "    90% {\n",
              "      border-color: transparent;\n",
              "      border-bottom-color: var(--fill-color);\n",
              "    }\n",
              "  }\n",
              "</style>\n",
              "\n",
              "      <script>\n",
              "        async function quickchart(key) {\n",
              "          const quickchartButtonEl =\n",
              "            document.querySelector('#' + key + ' button');\n",
              "          quickchartButtonEl.disabled = true;  // To prevent multiple clicks.\n",
              "          quickchartButtonEl.classList.add('colab-df-spinner');\n",
              "          try {\n",
              "            const charts = await google.colab.kernel.invokeFunction(\n",
              "                'suggestCharts', [key], {});\n",
              "          } catch (error) {\n",
              "            console.error('Error during call to suggestCharts:', error);\n",
              "          }\n",
              "          quickchartButtonEl.classList.remove('colab-df-spinner');\n",
              "          quickchartButtonEl.classList.add('colab-df-quickchart-complete');\n",
              "        }\n",
              "        (() => {\n",
              "          let quickchartButtonEl =\n",
              "            document.querySelector('#df-9cbc3485-6d3a-49ee-a573-38f54e49f74b button');\n",
              "          quickchartButtonEl.style.display =\n",
              "            google.colab.kernel.accessAllowed ? 'block' : 'none';\n",
              "        })();\n",
              "      </script>\n",
              "    </div>\n",
              "\n",
              "    </div>\n",
              "  </div>\n"
            ],
            "application/vnd.google.colaboratory.intrinsic+json": {
              "type": "dataframe",
              "summary": "{\n  \"name\": \"pd\",\n  \"rows\": 4,\n  \"fields\": [\n    {\n      \"column\": \"caminho\",\n      \"properties\": {\n        \"dtype\": \"number\",\n        \"std\": 0,\n        \"min\": 0,\n        \"max\": 1,\n        \"num_unique_values\": 2,\n        \"samples\": [\n          0,\n          1\n        ],\n        \"semantic_type\": \"\",\n        \"description\": \"\"\n      }\n    },\n    {\n      \"column\": \"meio\",\n      \"properties\": {\n        \"dtype\": \"number\",\n        \"std\": 0,\n        \"min\": 0,\n        \"max\": 1,\n        \"num_unique_values\": 2,\n        \"samples\": [\n          0,\n          1\n        ],\n        \"semantic_type\": \"\",\n        \"description\": \"\"\n      }\n    },\n    {\n      \"column\": \"pedra\",\n      \"properties\": {\n        \"dtype\": \"number\",\n        \"std\": 0,\n        \"min\": 1,\n        \"max\": 1,\n        \"num_unique_values\": 1,\n        \"samples\": [\n          1\n        ],\n        \"semantic_type\": \"\",\n        \"description\": \"\"\n      }\n    }\n  ]\n}"
            }
          },
          "metadata": {},
          "execution_count": 103
        }
      ]
    }
  ]
}